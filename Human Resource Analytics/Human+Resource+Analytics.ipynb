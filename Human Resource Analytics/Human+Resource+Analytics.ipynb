{
 "cells": [
  {
   "cell_type": "code",
   "execution_count": null,
   "metadata": {
    "collapsed": false
   },
   "outputs": [],
   "source": [
    "import pandas as pd\n",
    "import numpy as np\n",
    "%matplotlib inline"
   ]
  },
  {
   "cell_type": "code",
   "execution_count": 2,
   "metadata": {
    "collapsed": true
   },
   "outputs": [],
   "source": [
    "loc = 'https://raw.githubusercontent.com/gurkpet/Human-Resource/9a0d15f1cc27954cfa59a71825d15d131651923c/HR_comma_sep.csv'\n",
    "origin_data = pd.read_csv(loc, low_memory=False)"
   ]
  },
  {
   "cell_type": "code",
   "execution_count": 3,
   "metadata": {
    "collapsed": false
   },
   "outputs": [
    {
     "data": {
      "text/plain": [
       "Index(['satisfaction_level', 'last_evaluation', 'number_project',\n",
       "       'average_montly_hours', 'time_spend_company', 'Work_accident', 'left',\n",
       "       'promotion_last_5years', 'sales', 'salary'],\n",
       "      dtype='object')"
      ]
     },
     "execution_count": 3,
     "metadata": {},
     "output_type": "execute_result"
    }
   ],
   "source": [
    "origin_data.columns #list all the columns in the oringinal raw data"
   ]
  },
  {
   "cell_type": "code",
   "execution_count": 4,
   "metadata": {
    "collapsed": false
   },
   "outputs": [
    {
     "data": {
      "text/plain": [
       "array(['low', 'medium', 'high'], dtype=object)"
      ]
     },
     "execution_count": 4,
     "metadata": {},
     "output_type": "execute_result"
    }
   ],
   "source": [
    "origin_data['salary'].unique() #show the unique salary catigorical variables"
   ]
  },
  {
   "cell_type": "code",
   "execution_count": 5,
   "metadata": {
    "collapsed": false
   },
   "outputs": [
    {
     "data": {
      "text/plain": [
       "array(['sales', 'accounting', 'hr', 'technical', 'support', 'management',\n",
       "       'IT', 'product_mng', 'marketing', 'RandD'], dtype=object)"
      ]
     },
     "execution_count": 5,
     "metadata": {},
     "output_type": "execute_result"
    }
   ],
   "source": [
    "origin_data = origin_data.rename(columns={'sales': 'job'}) # original column is poorly labeled\n",
    "origin_data['job'].unique() #show the unique job titles"
   ]
  },
  {
   "cell_type": "code",
   "execution_count": 6,
   "metadata": {
    "collapsed": true
   },
   "outputs": [],
   "source": [
    "#declare a dictionary for jobs to replace catigorical labeles with numerical ones\n",
    "jobsdic = { \n",
    "        'sales':0,\n",
    "        'accounting':1,\n",
    "        'hr':2,\n",
    "        'support':3,\n",
    "        'management':4,\n",
    "        'IT':5,\n",
    "        'product_mng':6,\n",
    "        'marketing':7,\n",
    "        'RandD':8,\n",
    "        'technical':9\n",
    "}\n",
    "#declare a dictionary for salary to replace catigorical labeles with numerical ones\n",
    "salarydic = {\n",
    "        'low':0,\n",
    "        'medium':1,\n",
    "        'high':2\n",
    "}"
   ]
  },
  {
   "cell_type": "code",
   "execution_count": 7,
   "metadata": {
    "collapsed": false
   },
   "outputs": [],
   "source": [
    "origin_data = origin_data.replace({\"job\":jobsdic})"
   ]
  },
  {
   "cell_type": "code",
   "execution_count": 8,
   "metadata": {
    "collapsed": false
   },
   "outputs": [],
   "source": [
    "origin_data = origin_data.replace({\"salary\":salarydic})"
   ]
  },
  {
   "cell_type": "code",
   "execution_count": 9,
   "metadata": {
    "collapsed": false
   },
   "outputs": [],
   "source": [
    "features = origin_data[['job', 'salary']]"
   ]
  },
  {
   "cell_type": "markdown",
   "metadata": {},
   "source": [
    "<h3>Features 1 and 2</h3>\n",
    "I chose jobs that have been assigned numberic values as well as salary which has also been assigned an numeric value from 0-2 for low medium and high."
   ]
  },
  {
   "cell_type": "code",
   "execution_count": 10,
   "metadata": {
    "collapsed": false
   },
   "outputs": [
    {
     "name": "stderr",
     "output_type": "stream",
     "text": [
      "c:\\users\\peter\\appdata\\local\\programs\\python\\python36-32\\lib\\site-packages\\ipykernel\\__main__.py:4: SettingWithCopyWarning: \n",
      "A value is trying to be set on a copy of a slice from a DataFrame.\n",
      "Try using .loc[row_indexer,col_indexer] = value instead\n",
      "\n",
      "See the caveats in the documentation: http://pandas.pydata.org/pandas-docs/stable/indexing.html#indexing-view-versus-copy\n",
      "c:\\users\\peter\\appdata\\local\\programs\\python\\python36-32\\lib\\site-packages\\ipykernel\\__main__.py:6: SettingWithCopyWarning: \n",
      "A value is trying to be set on a copy of a slice from a DataFrame.\n",
      "Try using .loc[row_indexer,col_indexer] = value instead\n",
      "\n",
      "See the caveats in the documentation: http://pandas.pydata.org/pandas-docs/stable/indexing.html#indexing-view-versus-copy\n",
      "c:\\users\\peter\\appdata\\local\\programs\\python\\python36-32\\lib\\site-packages\\ipykernel\\__main__.py:8: SettingWithCopyWarning: \n",
      "A value is trying to be set on a copy of a slice from a DataFrame.\n",
      "Try using .loc[row_indexer,col_indexer] = value instead\n",
      "\n",
      "See the caveats in the documentation: http://pandas.pydata.org/pandas-docs/stable/indexing.html#indexing-view-versus-copy\n"
     ]
    }
   ],
   "source": [
    "hours_one_std_bot = origin_data['average_montly_hours'].mean() - origin_data['average_montly_hours'].std()\n",
    "hours_one_std_top = origin_data['average_montly_hours'].mean() + origin_data['average_montly_hours'].std()\n",
    "features['hours_within_one_dev'] = np.where( (origin_data['average_montly_hours']>=hours_one_std_bot) \n",
    "                                & (origin_data['average_montly_hours']<=hours_one_std_top), 1, 0)\n",
    "\n",
    "features['hours_bel_one_dev'] = np.where(origin_data['average_montly_hours']<hours_one_std_bot, 1, 0) \n",
    "                        \n",
    "features['hours_abv_one_dev'] = np.where(origin_data['average_montly_hours']>hours_one_std_top, 1, 0)"
   ]
  },
  {
   "cell_type": "markdown",
   "metadata": {},
   "source": [
    "<h3>Feature 3</h3>\n",
    "I chose feature three to be individuals whose hours are within 1 standard deviation of average monthly working hours because I felt that rather than being above or below average, being near the average is more representative of significance.  \n",
    "<h3>Feature 4</h3>\n",
    "I chose feature 4 to be for individuals whose working hours were below one standard deviation for the same reason I chose feature 3.  These workers represent people with abnormally low working hours.\n",
    "<h3>Feature 5</h3>\n",
    "I chose feature 5 to be for individuals whose working hours were below one standard deviation for the same reason I chose features 3 and 4.  These workers represent people with abnormally high working hours."
   ]
  },
  {
   "cell_type": "code",
   "execution_count": 14,
   "metadata": {
    "collapsed": false
   },
   "outputs": [
    {
     "name": "stderr",
     "output_type": "stream",
     "text": [
      "c:\\users\\peter\\appdata\\local\\programs\\python\\python36-32\\lib\\site-packages\\ipykernel\\__main__.py:5: SettingWithCopyWarning: \n",
      "A value is trying to be set on a copy of a slice from a DataFrame.\n",
      "Try using .loc[row_indexer,col_indexer] = value instead\n",
      "\n",
      "See the caveats in the documentation: http://pandas.pydata.org/pandas-docs/stable/indexing.html#indexing-view-versus-copy\n",
      "c:\\users\\peter\\appdata\\local\\programs\\python\\python36-32\\lib\\site-packages\\ipykernel\\__main__.py:7: SettingWithCopyWarning: \n",
      "A value is trying to be set on a copy of a slice from a DataFrame.\n",
      "Try using .loc[row_indexer,col_indexer] = value instead\n",
      "\n",
      "See the caveats in the documentation: http://pandas.pydata.org/pandas-docs/stable/indexing.html#indexing-view-versus-copy\n",
      "c:\\users\\peter\\appdata\\local\\programs\\python\\python36-32\\lib\\site-packages\\ipykernel\\__main__.py:8: SettingWithCopyWarning: \n",
      "A value is trying to be set on a copy of a slice from a DataFrame.\n",
      "Try using .loc[row_indexer,col_indexer] = value instead\n",
      "\n",
      "See the caveats in the documentation: http://pandas.pydata.org/pandas-docs/stable/indexing.html#indexing-view-versus-copy\n"
     ]
    }
   ],
   "source": [
    "proj_one_std_bot = origin_data['number_project'].mean() - origin_data['number_project'].std()\n",
    "proj_one_std_top = origin_data['number_project'].mean() + origin_data['number_project'].std()\n",
    "\n",
    "features['proj_within_one_dev'] = np.where( (origin_data['number_project']>=proj_one_std_bot) \n",
    "                                & (origin_data['number_project']<=proj_one_std_top), 1, 0)\n",
    "\n",
    "features['proj_bel_one_dev'] = np.where(origin_data['number_project']<proj_one_std_bot, 1, 0) \n",
    "features['proj_abv_one_dev'] = np.where(origin_data['number_project']>proj_one_std_top, 1, 0)"
   ]
  },
  {
   "cell_type": "markdown",
   "metadata": {},
   "source": [
    "<h3>Feature 6</h3>\n",
    "I chose feature three to be individuals whose hours are within 1 standard deviation of average number of projects because I felt that rather than being above or below average, being near the average is more representative of significance.  \n",
    "<h3>Feature 7</h3>\n",
    "I chose feature 7 to be for individuals whose number of projects were below one standard deviation for the same reason I chose feature 6.  These workers represent people with abnormally project counts.\n",
    "<h3>Feature 8</h3>\n",
    "I chose feature 8 to be for individuals whose working project counts below one standard deviation for the same reason I chose features 6 and 7.  These workers represent people with abnormally high project counts."
   ]
  },
  {
   "cell_type": "code",
   "execution_count": 16,
   "metadata": {
    "collapsed": false
   },
   "outputs": [
    {
     "name": "stderr",
     "output_type": "stream",
     "text": [
      "c:\\users\\peter\\appdata\\local\\programs\\python\\python36-32\\lib\\site-packages\\ipykernel\\__main__.py:1: SettingWithCopyWarning: \n",
      "A value is trying to be set on a copy of a slice from a DataFrame.\n",
      "Try using .loc[row_indexer,col_indexer] = value instead\n",
      "\n",
      "See the caveats in the documentation: http://pandas.pydata.org/pandas-docs/stable/indexing.html#indexing-view-versus-copy\n",
      "  if __name__ == '__main__':\n"
     ]
    }
   ],
   "source": [
    "features['abv_avg_employed'] = np.where(origin_data['time_spend_company']>origin_data['time_spend_company'].mean(), 1, 0)\n",
    "\n",
    "features['blw_avg_employed'] = np.where(origin_data['time_spend_company']<origin_data['time_spend_company'].mean(), 1, 0)"
   ]
  },
  {
   "cell_type": "markdown",
   "metadata": {},
   "source": [
    "<h3>Feature 9</h3>\n",
    "For feature 9 I felt that being above or below average time in the company would be interesting features, as it is the average being above it is significant on its own.\n",
    "<h3>Feature 10</h3>\n",
    "Much the same reason as feature 9, I chose being below average time spent in the company would make for an interesting feature."
   ]
  }
 ],
 "metadata": {
  "kernelspec": {
   "display_name": "Python 3",
   "language": "python",
   "name": "python3"
  },
  "language_info": {
   "codemirror_mode": {
    "name": "ipython",
    "version": 3
   },
   "file_extension": ".py",
   "mimetype": "text/x-python",
   "name": "python",
   "nbconvert_exporter": "python",
   "pygments_lexer": "ipython3",
   "version": "3.6.0"
  }
 },
 "nbformat": 4,
 "nbformat_minor": 2
}
