{
 "cells": [
  {
   "cell_type": "code",
   "execution_count": 60,
   "metadata": {},
   "outputs": [],
   "source": [
    "class Node:\n",
    "    def __init__(self, val):\n",
    "        self.left = None\n",
    "        self.right = None\n",
    "        self.val = val\n",
    "    def add_leaf(self, val):\n",
    "        if (val < self.val): \n",
    "            if (self.left == None):\n",
    "                self.left = Node(val)\n",
    "            else:\n",
    "                self.left.add_leaf(val)\n",
    "        elif (val >= self.val):\n",
    "            if (self.right == None):\n",
    "                self.right = Node(val)\n",
    "            else:\n",
    "                self.right.add_leaf(val)\n",
    "    def traverse_tree(self):\n",
    "        if self.left:\n",
    "            self.left.traverse_tree()\n",
    "        print(self.val)\n",
    "        if self.right:\n",
    "            self.right.traverse_tree()"
   ]
  },
  {
   "cell_type": "code",
   "execution_count": 65,
   "metadata": {},
   "outputs": [],
   "source": [
    "tree = Node(10)"
   ]
  },
  {
   "cell_type": "code",
   "execution_count": 66,
   "metadata": {},
   "outputs": [],
   "source": [
    "list_of_numbers = [10, 11, 3, 5, 6, 7, 12, 63, 61, 75]"
   ]
  },
  {
   "cell_type": "code",
   "execution_count": 69,
   "metadata": {},
   "outputs": [],
   "source": [
    "for num in list_of_numbers:\n",
    "    tree.add_leaf(num)"
   ]
  },
  {
   "cell_type": "code",
   "execution_count": 70,
   "metadata": {},
   "outputs": [
    {
     "name": "stdout",
     "output_type": "stream",
     "text": [
      "3\n",
      "5\n",
      "6\n",
      "7\n",
      "10\n",
      "10\n",
      "11\n",
      "12\n",
      "61\n",
      "63\n",
      "75\n"
     ]
    }
   ],
   "source": [
    "tree.traverse_tree()"
   ]
  },
  {
   "cell_type": "code",
   "execution_count": null,
   "metadata": {
    "collapsed": true
   },
   "outputs": [],
   "source": []
  }
 ],
 "metadata": {
  "kernelspec": {
   "display_name": "Python 3",
   "language": "python",
   "name": "python3"
  },
  "language_info": {
   "codemirror_mode": {
    "name": "ipython",
    "version": 3
   },
   "file_extension": ".py",
   "mimetype": "text/x-python",
   "name": "python",
   "nbconvert_exporter": "python",
   "pygments_lexer": "ipython3",
   "version": "3.6.1"
  }
 },
 "nbformat": 4,
 "nbformat_minor": 2
}
