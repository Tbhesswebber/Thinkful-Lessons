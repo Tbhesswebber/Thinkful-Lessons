{
 "cells": [
  {
   "cell_type": "code",
   "execution_count": 27,
   "metadata": {},
   "outputs": [],
   "source": [
    "import queue\n",
    "\n",
    "class Node:\n",
    "    def __init__(self, val, lvl = 1):\n",
    "        self.level = lvl\n",
    "        self.left = None\n",
    "        self.right = None\n",
    "        self.val = val\n",
    "\n",
    "    def add_leaf(self, val, lvl = 2):\n",
    "        if (val < self.val): \n",
    "            if (self.left == None):\n",
    "                self.left = Node(val, self.level + 1)\n",
    "            else:\n",
    "                self.left.add_leaf(val, lvl = self.level + 1)\n",
    "        elif (val >= self.val):\n",
    "            if (self.right == None):\n",
    "                self.right = Node(val, self.level + 1)\n",
    "            else:\n",
    "                self.right.add_leaf(val, lvl = self.level + 1)\n",
    "    \n",
    "    def traverse_tree(self):\n",
    "        values = []\n",
    "        if self.left:\n",
    "            values.extend(self.left.traverse_tree())\n",
    "        values.append(self.val)\n",
    "        if self.right:\n",
    "            values.extend(self.right.traverse_tree())\n",
    "        return values\n",
    "    \n",
    "    def breadth_first_traversal(self):\n",
    "        q = queue.Queue(maxsize=0)\n",
    "        values = []\n",
    "        this = self\n",
    "        q.put(this)\n",
    "        while not q.empty():\n",
    "            this = q.get()\n",
    "            values.append(this.val)\n",
    "            if this.left != None:\n",
    "                q.put(this.left)\n",
    "            if this.right != None:\n",
    "                q.put(this.right)\n",
    "        print(values)\n",
    "    \n",
    "    def depth_first_traversal(self):\n",
    "        q = queue.Queue(maxsize=0)\n",
    "        values = []\n",
    "        this = self\n",
    "        q.put(this)\n",
    "        lifo = queue.LifoQueue(maxsize=0)\n",
    "        while not q.empty():\n",
    "            this = q.get()\n",
    "            lifo.put(this)\n",
    "            if this.right != None:\n",
    "                q.put(this.right)\n",
    "            \n",
    "            if this.left != None:\n",
    "                q.put(this.left)\n",
    "        while not lifo.empty():\n",
    "                this = lifo.get()\n",
    "                values.append(this.val)\n",
    "        print(values)"
   ]
  },
  {
   "cell_type": "code",
   "execution_count": 32,
   "metadata": {
    "collapsed": true
   },
   "outputs": [],
   "source": [
    "tree = Node(10)\n",
    "list_of_numbers = [10, 11, 3, 5, 6, 7, 12, 63, 61, 75, 55, 22, 55, 26, 42, 100]\n",
    "for num in list_of_numbers:\n",
    "    tree.add_leaf(num)"
   ]
  },
  {
   "cell_type": "code",
   "execution_count": 33,
   "metadata": {},
   "outputs": [
    {
     "data": {
      "text/plain": [
       "[3, 5, 6, 7, 10, 10, 11, 12, 22, 26, 42, 55, 55, 61, 63, 75, 100]"
      ]
     },
     "execution_count": 33,
     "metadata": {},
     "output_type": "execute_result"
    }
   ],
   "source": [
    "tree.traverse_tree()"
   ]
  },
  {
   "cell_type": "code",
   "execution_count": 34,
   "metadata": {},
   "outputs": [
    {
     "name": "stdout",
     "output_type": "stream",
     "text": [
      "[10, 3, 10, 5, 11, 6, 12, 7, 63, 61, 75, 55, 100, 22, 55, 26, 42]\n"
     ]
    }
   ],
   "source": [
    "tree.breadth_first_traversal()"
   ]
  },
  {
   "cell_type": "code",
   "execution_count": 35,
   "metadata": {},
   "outputs": [
    {
     "name": "stdout",
     "output_type": "stream",
     "text": [
      "[42, 26, 22, 55, 55, 100, 61, 75, 7, 63, 6, 12, 5, 11, 3, 10, 10]\n"
     ]
    }
   ],
   "source": [
    "tree.depth_first_traversal()"
   ]
  },
  {
   "cell_type": "code",
   "execution_count": null,
   "metadata": {
    "collapsed": true
   },
   "outputs": [],
   "source": []
  }
 ],
 "metadata": {
  "kernelspec": {
   "display_name": "Python 3",
   "language": "python",
   "name": "python3"
  },
  "language_info": {
   "codemirror_mode": {
    "name": "ipython",
    "version": 3
   },
   "file_extension": ".py",
   "mimetype": "text/x-python",
   "name": "python",
   "nbconvert_exporter": "python",
   "pygments_lexer": "ipython3",
   "version": "3.6.1"
  }
 },
 "nbformat": 4,
 "nbformat_minor": 2
}
