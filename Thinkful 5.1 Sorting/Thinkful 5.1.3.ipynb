{
 "cells": [
  {
   "cell_type": "code",
   "execution_count": 83,
   "metadata": {
    "collapsed": true
   },
   "outputs": [],
   "source": [
    "import queue\n",
    "\n",
    "class Node:\n",
    "    def __init__(self, val, lvl = 1):\n",
    "        self.level = lvl\n",
    "        self.left = None\n",
    "        self.right = None\n",
    "        self.val = val\n",
    "\n",
    "    def add_child(self, val, lvl = 2):\n",
    "        if (val < self.val): \n",
    "            if (self.left == None):\n",
    "                self.left = Node(val, self.level + 1)\n",
    "            else:\n",
    "                self.left.add_child(val, lvl = self.level + 1)\n",
    "        elif (val >= self.val):\n",
    "            if (self.right == None):\n",
    "                self.right = Node(val, self.level + 1)\n",
    "            else:\n",
    "                self.right.add_child(val, lvl = self.level + 1)\n",
    "    \n",
    "    def traverse_tree(self):\n",
    "        values = []\n",
    "        if self.left:\n",
    "            values.extend(self.left.traverse_tree())\n",
    "        values.append(self.val)\n",
    "        if self.right:\n",
    "            values.extend(self.right.traverse_tree())\n",
    "        return values\n",
    "    \n",
    "    def breadth_first_traversal(self):\n",
    "        q = queue.Queue(maxsize=0)\n",
    "        values = []\n",
    "        this = self\n",
    "        q.put(this)\n",
    "        while not q.empty():\n",
    "            this = q.get()\n",
    "            values.append(this.val)\n",
    "            if this.left != None:\n",
    "                q.put(this.left)\n",
    "            if this.right != None:\n",
    "                q.put(this.right)\n",
    "        print(values)\n",
    "    \n",
    "    def bottom_up_first_traversal(self):\n",
    "        q = queue.Queue(maxsize=0)\n",
    "        values = []\n",
    "        this = self\n",
    "        q.put(this)\n",
    "        lifo = queue.LifoQueue(maxsize=0)\n",
    "        while not q.empty():\n",
    "            this = q.get()\n",
    "            lifo.put(this)\n",
    "            if this.left != None:\n",
    "                q.put(this.left)\n",
    "            if this.right != None:\n",
    "                q.put(this.right)\n",
    "        while not lifo.empty():\n",
    "                this = lifo.get()\n",
    "                values.append(this.val)\n",
    "        print(values)"
   ]
  },
  {
   "cell_type": "code",
   "execution_count": 49,
   "metadata": {
    "collapsed": true
   },
   "outputs": [],
   "source": [
    "tree = Node(10)\n",
    "list_of_numbers = [10, 11, 3, 5, 6, 7, 12, 63, 61, 75, 55, 22, 55, 26, 42, 100]\n",
    "for num in list_of_numbers:\n",
    "    tree.add_child(num)"
   ]
  },
  {
   "cell_type": "code",
   "execution_count": 50,
   "metadata": {},
   "outputs": [
    {
     "data": {
      "text/plain": [
       "[3, 5, 6, 7, 10, 10, 11, 12, 22, 26, 42, 55, 55, 61, 63, 75, 100]"
      ]
     },
     "execution_count": 50,
     "metadata": {},
     "output_type": "execute_result"
    }
   ],
   "source": [
    "tree.traverse_tree()"
   ]
  },
  {
   "cell_type": "code",
   "execution_count": 51,
   "metadata": {},
   "outputs": [
    {
     "name": "stdout",
     "output_type": "stream",
     "text": [
      "[10, 3, 10, 5, 11, 6, 12, 7, 63, 61, 75, 55, 100, 22, 55, 26, 42]\n"
     ]
    }
   ],
   "source": [
    "tree.breadth_first_traversal()"
   ]
  },
  {
   "cell_type": "code",
   "execution_count": 52,
   "metadata": {},
   "outputs": [
    {
     "name": "stdout",
     "output_type": "stream",
     "text": [
      "[42, 26, 55, 22, 100, 55, 75, 61, 63, 7, 12, 6, 11, 5, 10, 3, 10]\n"
     ]
    }
   ],
   "source": [
    "tree.bottom_up_first_traversal()"
   ]
  },
  {
   "cell_type": "code",
   "execution_count": 78,
   "metadata": {
    "scrolled": true
   },
   "outputs": [],
   "source": [
    "import random\n",
    "list_of_numbers = random.sample(range(1, 100), 19)\n",
    "tree2 = Node(1)\n",
    "for num in list_of_numbers:\n",
    "    tree2.add_child(num)"
   ]
  },
  {
   "cell_type": "code",
   "execution_count": 79,
   "metadata": {},
   "outputs": [
    {
     "data": {
      "text/plain": [
       "[92, 18, 62, 96, 9, 55, 70, 10, 99, 95, 78, 11, 94, 45, 67, 1, 76, 29, 22]"
      ]
     },
     "execution_count": 79,
     "metadata": {},
     "output_type": "execute_result"
    }
   ],
   "source": [
    "list_of_numbers"
   ]
  },
  {
   "cell_type": "code",
   "execution_count": 80,
   "metadata": {},
   "outputs": [
    {
     "data": {
      "text/plain": [
       "[1, 1, 9, 10, 11, 18, 22, 29, 45, 55, 62, 67, 70, 76, 78, 92, 94, 95, 96, 99]"
      ]
     },
     "execution_count": 80,
     "metadata": {},
     "output_type": "execute_result"
    }
   ],
   "source": [
    "tree2.traverse_tree()"
   ]
  },
  {
   "cell_type": "code",
   "execution_count": 84,
   "metadata": {},
   "outputs": [
    {
     "name": "stdout",
     "output_type": "stream",
     "text": [
      "[1, 92, 18, 96, 9, 62, 95, 99, 1, 10, 55, 70, 94, 11, 45, 67, 78, 29, 76, 22]\n"
     ]
    }
   ],
   "source": [
    "tree2.breadth_first_traversal()"
   ]
  },
  {
   "cell_type": "code",
   "execution_count": 85,
   "metadata": {},
   "outputs": [
    {
     "name": "stdout",
     "output_type": "stream",
     "text": [
      "[22, 76, 29, 78, 67, 45, 11, 94, 70, 55, 10, 1, 99, 95, 62, 9, 96, 18, 92, 1]\n"
     ]
    }
   ],
   "source": [
    "tree2.bottom_up_first_traversal()"
   ]
  },
  {
   "cell_type": "code",
   "execution_count": null,
   "metadata": {
    "collapsed": true
   },
   "outputs": [],
   "source": []
  }
 ],
 "metadata": {
  "kernelspec": {
   "display_name": "Python 3",
   "language": "python",
   "name": "python3"
  },
  "language_info": {
   "codemirror_mode": {
    "name": "ipython",
    "version": 3
   },
   "file_extension": ".py",
   "mimetype": "text/x-python",
   "name": "python",
   "nbconvert_exporter": "python",
   "pygments_lexer": "ipython3",
   "version": "3.6.1"
  }
 },
 "nbformat": 4,
 "nbformat_minor": 2
}
