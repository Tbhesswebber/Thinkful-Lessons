{
 "cells": [
  {
   "cell_type": "code",
   "execution_count": 1,
   "metadata": {},
   "outputs": [],
   "source": [
    "import queue\n",
    "\n",
    "class Node:\n",
    "    def __init__(self, val, lvl = 1):\n",
    "        self.level = lvl\n",
    "        self.left = None\n",
    "        self.right = None\n",
    "        self.val = val\n",
    "\n",
    "    def add_leaf(self, val, lvl = 2):\n",
    "        if (val < self.val): \n",
    "            if (self.left == None):\n",
    "                self.left = Node(val, self.level + 1)\n",
    "            else:\n",
    "                self.left.add_leaf(val, lvl = self.level + 1)\n",
    "        elif (val >= self.val):\n",
    "            if (self.right == None):\n",
    "                self.right = Node(val, self.level + 1)\n",
    "            else:\n",
    "                self.right.add_leaf(val, lvl = self.level + 1)\n",
    "    \n",
    "    def traverse_tree(self):\n",
    "        if self.left:\n",
    "            self.left.traverse_tree()\n",
    "        print(self.val)\n",
    "        if self.right:\n",
    "            self.right.traverse_tree()\n",
    "    \n",
    "    def breadth_first_traversal(self):\n",
    "        q = queue.Queue(maxsize=0)\n",
    "        values = []\n",
    "        this = self\n",
    "        q.put(this)\n",
    "        while not q.empty():\n",
    "            this = q.get()\n",
    "            values.append(this.val)\n",
    "            if this.left != None:\n",
    "                q.put(this.left)\n",
    "            if this.right != None:\n",
    "                q.put(this.right)\n",
    "        print(values)"
   ]
  },
  {
   "cell_type": "code",
   "execution_count": 2,
   "metadata": {
    "collapsed": true
   },
   "outputs": [],
   "source": [
    "tree = Node(10)\n",
    "list_of_numbers = [10, 11, 3, 5, 6, 7, 12, 63, 61, 75]\n",
    "for num in list_of_numbers:\n",
    "    tree.add_leaf(num)"
   ]
  },
  {
   "cell_type": "code",
   "execution_count": 3,
   "metadata": {},
   "outputs": [
    {
     "name": "stdout",
     "output_type": "stream",
     "text": [
      "[10, 3, 10, 5, 11, 6, 12, 7, 63, 61, 75]\n"
     ]
    }
   ],
   "source": [
    "tree.breadth_first_traversal()"
   ]
  },
  {
   "cell_type": "code",
   "execution_count": null,
   "metadata": {
    "collapsed": true
   },
   "outputs": [],
   "source": []
  }
 ],
 "metadata": {
  "kernelspec": {
   "display_name": "Python 3",
   "language": "python",
   "name": "python3"
  },
  "language_info": {
   "codemirror_mode": {
    "name": "ipython",
    "version": 3
   },
   "file_extension": ".py",
   "mimetype": "text/x-python",
   "name": "python",
   "nbconvert_exporter": "python",
   "pygments_lexer": "ipython3",
   "version": "3.6.1"
  }
 },
 "nbformat": 4,
 "nbformat_minor": 2
}
