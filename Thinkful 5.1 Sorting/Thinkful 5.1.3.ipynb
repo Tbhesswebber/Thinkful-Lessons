{
 "cells": [
  {
   "cell_type": "code",
   "execution_count": 88,
   "metadata": {
    "collapsed": true
   },
   "outputs": [],
   "source": [
    "import queue\n",
    "\n",
    "class Node:\n",
    "    def __init__(self, val):\n",
    "        self.left = None\n",
    "        self.right = None\n",
    "        self.val = val\n",
    "\n",
    "    def add_child(self, val):\n",
    "        if (val < self.val): \n",
    "            if (self.left == None):\n",
    "                self.left = Node(val)\n",
    "            else:\n",
    "                self.left.add_child(val)\n",
    "        elif (val >= self.val):\n",
    "            if (self.right == None):\n",
    "                self.right = Node(val)\n",
    "            else:\n",
    "                self.right.add_child(val)\n",
    "    \n",
    "    def traverse_tree(self):\n",
    "        values = []\n",
    "        if self.left:\n",
    "            values.extend(self.left.traverse_tree())\n",
    "        values.append(self.val)\n",
    "        if self.right:\n",
    "            values.extend(self.right.traverse_tree())\n",
    "        return values\n",
    "    \n",
    "    def breadth_first_traversal(self):\n",
    "        q = queue.Queue(maxsize=0)\n",
    "        values = []\n",
    "        this = self\n",
    "        q.put(this)\n",
    "        while not q.empty():\n",
    "            this = q.get()\n",
    "            values.append(this.val)\n",
    "            if this.left != None:\n",
    "                q.put(this.left)\n",
    "            if this.right != None:\n",
    "                q.put(this.right)\n",
    "        print(values)\n",
    "    \n",
    "    def bottom_up_first_traversal(self):\n",
    "        q = queue.Queue(maxsize=0)\n",
    "        values = []\n",
    "        this = self\n",
    "        q.put(this)\n",
    "        lifo = queue.LifoQueue(maxsize=0)\n",
    "        while not q.empty():\n",
    "            this = q.get()\n",
    "            lifo.put(this)\n",
    "            if this.left != None:\n",
    "                q.put(this.left)\n",
    "            if this.right != None:\n",
    "                q.put(this.right)\n",
    "        while not lifo.empty():\n",
    "                this = lifo.get()\n",
    "                values.append(this.val)\n",
    "        print(values)"
   ]
  },
  {
   "cell_type": "code",
   "execution_count": 89,
   "metadata": {},
   "outputs": [],
   "source": [
    "tree = Node(10)\n",
    "list_of_numbers = [10, 11, 3, 5, 6, 7, 12, 63, 61, 75, 55, 22, 55, 26, 42, 100]\n",
    "for num in list_of_numbers:\n",
    "    tree.add_child(num)"
   ]
  },
  {
   "cell_type": "code",
   "execution_count": 90,
   "metadata": {},
   "outputs": [
    {
     "data": {
      "text/plain": [
       "[3, 5, 6, 7, 10, 10, 11, 12, 22, 26, 42, 55, 55, 61, 63, 75, 100]"
      ]
     },
     "execution_count": 90,
     "metadata": {},
     "output_type": "execute_result"
    }
   ],
   "source": [
    "tree.traverse_tree()"
   ]
  },
  {
   "cell_type": "code",
   "execution_count": 91,
   "metadata": {},
   "outputs": [
    {
     "name": "stdout",
     "output_type": "stream",
     "text": [
      "[10, 3, 10, 5, 11, 6, 12, 7, 63, 61, 75, 55, 100, 22, 55, 26, 42]\n"
     ]
    }
   ],
   "source": [
    "tree.breadth_first_traversal()"
   ]
  },
  {
   "cell_type": "code",
   "execution_count": 92,
   "metadata": {},
   "outputs": [
    {
     "name": "stdout",
     "output_type": "stream",
     "text": [
      "[42, 26, 55, 22, 100, 55, 75, 61, 63, 7, 12, 6, 11, 5, 10, 3, 10]\n"
     ]
    }
   ],
   "source": [
    "tree.bottom_up_first_traversal()"
   ]
  },
  {
   "cell_type": "code",
   "execution_count": 93,
   "metadata": {
    "collapsed": true,
    "scrolled": true
   },
   "outputs": [],
   "source": [
    "import random\n",
    "list_of_numbers = random.sample(range(1, 100), 19)\n",
    "tree2 = Node(1)\n",
    "for num in list_of_numbers:\n",
    "    tree2.add_child(num)"
   ]
  },
  {
   "cell_type": "code",
   "execution_count": 94,
   "metadata": {},
   "outputs": [
    {
     "data": {
      "text/plain": [
       "[80, 79, 83, 8, 95, 3, 97, 56, 10, 48, 99, 29, 20, 2, 16, 54, 77, 62, 34]"
      ]
     },
     "execution_count": 94,
     "metadata": {},
     "output_type": "execute_result"
    }
   ],
   "source": [
    "list_of_numbers"
   ]
  },
  {
   "cell_type": "code",
   "execution_count": 95,
   "metadata": {},
   "outputs": [
    {
     "data": {
      "text/plain": [
       "[1, 2, 3, 8, 10, 16, 20, 29, 34, 48, 54, 56, 62, 77, 79, 80, 83, 95, 97, 99]"
      ]
     },
     "execution_count": 95,
     "metadata": {},
     "output_type": "execute_result"
    }
   ],
   "source": [
    "tree2.traverse_tree()"
   ]
  },
  {
   "cell_type": "code",
   "execution_count": 96,
   "metadata": {},
   "outputs": [
    {
     "name": "stdout",
     "output_type": "stream",
     "text": [
      "[1, 80, 79, 83, 8, 95, 3, 56, 97, 2, 10, 77, 99, 48, 62, 29, 54, 20, 34, 16]\n"
     ]
    }
   ],
   "source": [
    "tree2.breadth_first_traversal()"
   ]
  },
  {
   "cell_type": "code",
   "execution_count": 97,
   "metadata": {},
   "outputs": [
    {
     "name": "stdout",
     "output_type": "stream",
     "text": [
      "[16, 34, 20, 54, 29, 62, 48, 99, 77, 10, 2, 97, 56, 3, 95, 8, 83, 79, 80, 1]\n"
     ]
    }
   ],
   "source": [
    "tree2.bottom_up_first_traversal()"
   ]
  },
  {
   "cell_type": "code",
   "execution_count": null,
   "metadata": {
    "collapsed": true
   },
   "outputs": [],
   "source": []
  },
  {
   "cell_type": "code",
   "execution_count": null,
   "metadata": {
    "collapsed": true
   },
   "outputs": [],
   "source": []
  }
 ],
 "metadata": {
  "kernelspec": {
   "display_name": "Python 3",
   "language": "python",
   "name": "python3"
  },
  "language_info": {
   "codemirror_mode": {
    "name": "ipython",
    "version": 3
   },
   "file_extension": ".py",
   "mimetype": "text/x-python",
   "name": "python",
   "nbconvert_exporter": "python",
   "pygments_lexer": "ipython3",
   "version": "3.6.1"
  }
 },
 "nbformat": 4,
 "nbformat_minor": 2
}
