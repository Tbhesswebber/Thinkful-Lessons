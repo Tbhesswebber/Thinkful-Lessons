{
 "cells": [
  {
   "cell_type": "code",
   "execution_count": 5,
   "metadata": {},
   "outputs": [
    {
     "data": {
      "text/plain": [
       "233168"
      ]
     },
     "execution_count": 5,
     "metadata": {},
     "output_type": "execute_result"
    }
   ],
   "source": [
    "##########################################\n",
    "### PROBLEM 1 ###########################\n",
    "list_to_sum = []\n",
    "for x in range(1000):\n",
    "    if x % 5 == 0 or x % 3 == 0:\n",
    "        list_to_sum.append(x)\n",
    "    \n",
    "import numpy as np\n",
    "np.sum(list_to_sum)"
   ]
  },
  {
   "cell_type": "code",
   "execution_count": 7,
   "metadata": {},
   "outputs": [
    {
     "data": {
      "text/plain": [
       "4613732"
      ]
     },
     "execution_count": 7,
     "metadata": {},
     "output_type": "execute_result"
    }
   ],
   "source": [
    "##########################################\n",
    "### PROBLEM 2 ###########################\n",
    "x = 1\n",
    "y = 2\n",
    "list_of_even_nums = []\n",
    "while y < 4000000:\n",
    "    if y % 2 == 0:\n",
    "        list_of_even_nums.append(y)\n",
    "    z = y\n",
    "    y = y+x\n",
    "    x = z\n",
    "np.sum(list_of_even_nums)"
   ]
  },
  {
   "cell_type": "code",
   "execution_count": 74,
   "metadata": {},
   "outputs": [
    {
     "name": "stdout",
     "output_type": "stream",
     "text": [
      "6857\n"
     ]
    }
   ],
   "source": [
    "##########################################\n",
    "### PROBLEM 3 ###########################\n",
    "def largest_prime_factor(n):\n",
    " \n",
    "    largest_factor = 1\n",
    " \n",
    "    while n % 2 == 0:\n",
    "        largest_factor = 2\n",
    "        n = n/2\n",
    " \n",
    "    p = 3\n",
    "    while n != 1:\n",
    "        while n % p == 0:\n",
    "            largest_factor = p\n",
    "            n = n/p\n",
    "        p += 2\n",
    " \n",
    "    return largest_factor\n",
    " \n",
    "for i in range(100000): a = largest_prime_factor(600851475143)\n",
    "    \n",
    "print(a)\n"
   ]
  },
  {
   "cell_type": "code",
   "execution_count": 50,
   "metadata": {
    "scrolled": false
   },
   "outputs": [
    {
     "name": "stdout",
     "output_type": "stream",
     "text": [
      "906609\n"
     ]
    }
   ],
   "source": [
    "##########################################\n",
    "### PROBLEM 4 ###########################\n",
    "\n",
    "x = 999\n",
    "y = 999\n",
    "def is_palindrome(number):\n",
    "    numstring = str(number)\n",
    "    for x in range(len(numstring)//2):\n",
    "        if numstring[x] != numstring[len(numstring)-1-x]:\n",
    "            return False\n",
    "    return True\n",
    "palendromes = []\n",
    "while x > 1:\n",
    "    while y > 1:\n",
    "        if is_palindrome(x*y):\n",
    "            palendromes.append(x*y)\n",
    "            break\n",
    "        y = y-1\n",
    "    x = x-1\n",
    "    y = 999\n",
    "print(max(palendromes))"
   ]
  },
  {
   "cell_type": "code",
   "execution_count": 81,
   "metadata": {},
   "outputs": [
    {
     "name": "stdout",
     "output_type": "stream",
     "text": [
      "232792560.0\n"
     ]
    }
   ],
   "source": [
    "##########################################\n",
    "### PROBLEM 5 ###########################\n",
    "x=2520.0\n",
    "list=[]\n",
    "true_list=[11.0, 12.0, 13.0, 14.0, 16.0, 17.0, 18.0, 19.0, 20.0]\n",
    "\n",
    "def check_factors():\n",
    "    for num in true_list:\n",
    "        if x%num == 0:\n",
    "            list.append(num)\n",
    "while True:\n",
    "    check_factors()\n",
    "    \n",
    "    if list==true_list:\n",
    "        print(x)\n",
    "        break\n",
    "\n",
    "    x=x+20\n",
    "    list=[]"
   ]
  },
  {
   "cell_type": "code",
   "execution_count": 66,
   "metadata": {},
   "outputs": [
    {
     "data": {
      "text/plain": [
       "25164150"
      ]
     },
     "execution_count": 66,
     "metadata": {},
     "output_type": "execute_result"
    }
   ],
   "source": [
    "##########################################\n",
    "### PROBLEM 6 ###########################\n",
    "\n",
    "sum_of_squares = []\n",
    "square_of_sum = []\n",
    "for x in range(101):\n",
    "    sum_of_squares.append(x*x)\n",
    "sum_of_squares = np.sum(sum_of_squares)\n",
    "for x in range(101):\n",
    "    square_of_sum.append(x)\n",
    "    x = x+1\n",
    "square_of_sum = np.sum(square_of_sum)**2\n",
    "square_of_sum - sum_of_squares"
   ]
  },
  {
   "cell_type": "code",
   "execution_count": 104,
   "metadata": {},
   "outputs": [
    {
     "name": "stdout",
     "output_type": "stream",
     "text": [
      "104743 is the 10001th prime\n"
     ]
    }
   ],
   "source": [
    "##########################################\n",
    "### PROBLEM 7 ###########################\n",
    "def isprime(n):\n",
    "    \n",
    "    n = abs(int(n))\n",
    "   \n",
    "    if n < 2:\n",
    "        return False\n",
    "    \n",
    "    if n == 2: \n",
    "        return True    \n",
    "    \n",
    "    if not n & 1: \n",
    "        return False\n",
    "    \n",
    "    for x in range(3, int(n**0.5)+1, 2):\n",
    "        if n % x == 0:\n",
    "            return False\n",
    "    return True\n",
    "\n",
    "x = 0\n",
    "num = 0\n",
    "while x <10001:\n",
    "    num = num+1\n",
    "    if isprime(num):\n",
    "        x = x+1\n",
    "    \n",
    "    \n",
    "print('{} is the 10001th prime'.format(num))\n"
   ]
  },
  {
   "cell_type": "code",
   "execution_count": 73,
   "metadata": {
    "collapsed": true
   },
   "outputs": [],
   "source": [
    "##########################################\n",
    "### PROBLEM 8 ###########################\n"
   ]
  },
  {
   "cell_type": "code",
   "execution_count": 112,
   "metadata": {},
   "outputs": [
    {
     "name": "stdout",
     "output_type": "stream",
     "text": [
      "200 375 425\n",
      "Product: 31875000\n",
      "Time: 7.51214 seconds\n"
     ]
    }
   ],
   "source": [
    "##########################################\n",
    "### PROBLEM 9 ###########################\n",
    "#### solution from outside ##############\n",
    "import time\n",
    "\n",
    "start = time.time()\n",
    "\n",
    "def pythag(a, b, c):\n",
    "    if a ** 2 + b ** 2 == c ** 2:\n",
    "        return True\n",
    "    return False\n",
    "\n",
    "a = [x for x in range(1, 1000)]\n",
    "\n",
    "for num in a:\n",
    "    for dig in range(num, 1000 - num):\n",
    "        for i in range(dig, 1000 - dig):\n",
    "            if num + dig + i == 1000:\n",
    "                if pythag(num, dig, i):\n",
    "                    print(num, dig, i)\n",
    "                    print(\"Product: {}\".format(num * dig * i))\n",
    "                    elapsed = time.time() - start\n",
    "                    print(\"Time: {:.5f} seconds\".format(elapsed))\n",
    "                    exit(1)"
   ]
  },
  {
   "cell_type": "code",
   "execution_count": 111,
   "metadata": {},
   "outputs": [
    {
     "name": "stdout",
     "output_type": "stream",
     "text": [
      "142913828922\n"
     ]
    }
   ],
   "source": [
    "##########################################\n",
    "### PROBLEM 10 ###########################\n",
    "list_of_primes_below = []\n",
    "\n",
    "x=0\n",
    "while x < 2000000:\n",
    "    if isprime(x):\n",
    "        list_of_primes_below.append(x)\n",
    "    print(x, end = '\\r')\n",
    "    x = x+1\n",
    "import numpy as np\n",
    "\n",
    "print(np.sum(list_of_primes_below))\n"
   ]
  },
  {
   "cell_type": "code",
   "execution_count": null,
   "metadata": {
    "collapsed": true
   },
   "outputs": [],
   "source": []
  }
 ],
 "metadata": {
  "kernelspec": {
   "display_name": "Python 3",
   "language": "python",
   "name": "python3"
  },
  "language_info": {
   "codemirror_mode": {
    "name": "ipython",
    "version": 3
   },
   "file_extension": ".py",
   "mimetype": "text/x-python",
   "name": "python",
   "nbconvert_exporter": "python",
   "pygments_lexer": "ipython3",
   "version": "3.6.1"
  }
 },
 "nbformat": 4,
 "nbformat_minor": 2
}
