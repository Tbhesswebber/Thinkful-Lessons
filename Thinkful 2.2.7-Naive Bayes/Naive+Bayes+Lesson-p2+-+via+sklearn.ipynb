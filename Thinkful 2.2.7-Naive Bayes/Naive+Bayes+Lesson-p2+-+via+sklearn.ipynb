{
 "cells": [
  {
   "cell_type": "code",
   "execution_count": 26,
   "metadata": {
    "collapsed": false
   },
   "outputs": [],
   "source": [
    "%matplotlib inline\n",
    "import numpy as np\n",
    "import pandas as pd\n",
    "import scipy\n",
    "import sklearn\n",
    "import matplotlib.pyplot as plt\n",
    "import seaborn as sns\n",
    "import html5lib\n",
    "from sklearn.naive_bayes import BernoulliNB\n",
    "from sklearn.metrics import confusion_matrix\n",
    "from sklearn.model_selection import KFold\n",
    "from sklearn.decomposition import PCA\n",
    "from sklearn.preprocessing import scale"
   ]
  },
  {
   "cell_type": "code",
   "execution_count": 27,
   "metadata": {
    "collapsed": true
   },
   "outputs": [],
   "source": [
    "def eval_con_mat(matrix):\n",
    "    #use confusion matrix to compute accuracy (good calls divided by all calls made)\n",
    "    print('Accuracy of {}%'.format(round(100*\n",
    "                                         (matrix[1][1]+matrix[0][0])/\n",
    "                                         (matrix[1][0]+matrix[0][1]+matrix[1][1]+matrix[0][0])),2))\n",
    "    \n",
    "\n",
    "    print('Sensitivity of {}%'.format(round(100*matrix[1][1]/(matrix[1][1] + matrix[1][0]),2)))\n",
    "    print('Specificity of {}%'.format(round(100*matrix[0][0]/(matrix[0][0] + matrix[0][1]),2)))\n",
    "    "
   ]
  },
  {
   "cell_type": "code",
   "execution_count": 28,
   "metadata": {
    "collapsed": false
   },
   "outputs": [],
   "source": [
    "#Read in a list of 2000+ positive words\n",
    "pos_words_loc = ('https://github.com/gurkpet/Thinkful-Lessons/blob/master/'\n",
    "             'Thinkful%202.2.7-Naive%20Bayes/Word%20Lists/positive-words.txt')\n",
    "pos_words_list = pd.read_html(pos_words_loc, skiprows=35)\n",
    "\n",
    "#clean up the read in by removing the first column of junk data\n",
    "for row in pos_words_list:\n",
    "   del row[0]    \n",
    "\n",
    "#convert list into dataframe\n",
    "pos_words = pd.DataFrame(pos_words_list[0])"
   ]
  },
  {
   "cell_type": "code",
   "execution_count": 29,
   "metadata": {
    "collapsed": false
   },
   "outputs": [],
   "source": [
    "list_pos_words = list(pos_words[1])"
   ]
  },
  {
   "cell_type": "code",
   "execution_count": 30,
   "metadata": {
    "collapsed": false
   },
   "outputs": [],
   "source": [
    "#read in amazon file\n",
    "amzn_file_loc = ('https://raw.githubusercontent.com/gurkpet/Thinkful-Lessons/master/'\n",
    "            'Thinkful%202.2.7-Naive%20Bayes/amazon_cells_labelled.txt')\n",
    "\n",
    "df = pd.read_csv(amzn_file_loc, delimiter= '\\t', header=None)\n",
    "#rename column headers\n",
    "amzn_dat = df.copy()\n",
    "amzn_dat.columns = ['review', 'positive_review']\n",
    "amzn_target = amzn_dat['positive_review']"
   ]
  },
  {
   "cell_type": "code",
   "execution_count": 31,
   "metadata": {
    "collapsed": false
   },
   "outputs": [],
   "source": [
    "for key in list_pos_words:\n",
    "    amzn_dat[str(key)] = amzn_dat.review.str.contains(str(key), case = False)\n",
    "amzn_dat['positive_review'] = (amzn_dat['positive_review'] == 1)\n",
    "data_amzn = amzn_dat[list_pos_words]\n",
    "amzn_target = amzn_dat['positive_review']"
   ]
  },
  {
   "cell_type": "code",
   "execution_count": 32,
   "metadata": {
    "collapsed": true
   },
   "outputs": [],
   "source": [
    "X=data_amzn.values"
   ]
  },
  {
   "cell_type": "code",
   "execution_count": 33,
   "metadata": {
    "collapsed": false
   },
   "outputs": [
    {
     "data": {
      "text/plain": [
       "(1000, 2006)"
      ]
     },
     "execution_count": 33,
     "metadata": {},
     "output_type": "execute_result"
    }
   ],
   "source": [
    "data_amzn.shape"
   ]
  },
  {
   "cell_type": "code",
   "execution_count": 34,
   "metadata": {
    "collapsed": false
   },
   "outputs": [
    {
     "name": "stderr",
     "output_type": "stream",
     "text": [
      "c:\\users\\peter\\appdata\\local\\programs\\python\\python36-32\\lib\\site-packages\\sklearn\\utils\\validation.py:429: DataConversionWarning: Data with input dtype bool was converted to float64 by the scale function.\n",
      "  warnings.warn(msg, _DataConversionWarning)\n"
     ]
    },
    {
     "data": {
      "text/plain": [
       "PCA(copy=True, iterated_power='auto', n_components=2006, random_state=None,\n",
       "  svd_solver='auto', tol=0.0, whiten=False)"
      ]
     },
     "execution_count": 34,
     "metadata": {},
     "output_type": "execute_result"
    }
   ],
   "source": [
    "#Scaling the values\n",
    "X = scale(X)\n",
    "\n",
    "pca = PCA(n_components=2006) # all features\n",
    "\n",
    "pca.fit(X)"
   ]
  },
  {
   "cell_type": "code",
   "execution_count": 35,
   "metadata": {
    "collapsed": false
   },
   "outputs": [
    {
     "data": {
      "image/png": "[encoded data removed]",
      "text/plain": [
       "<matplotlib.figure.Figure at 0x54660f0>"
      ]
     },
     "metadata": {},
     "output_type": "display_data"
    }
   ],
   "source": [
    "#The amount of variance that each PC explains\n",
    "var= pca.explained_variance_ratio_\n",
    "\n",
    "#Cumulative Variance explains\n",
    "var1=np.cumsum(np.round(pca.explained_variance_ratio_, decimals=4)*100)\n",
    "\n",
    "plt.plot(var1)\n",
    "plt.xlabel('Number of Componenets')\n",
    "plt.ylabel('Explained variance')\n",
    "plt.grid()\n",
    "plt.show()"
   ]
  },
  {
   "cell_type": "code",
   "execution_count": 36,
   "metadata": {
    "collapsed": false
   },
   "outputs": [
    {
     "data": {
      "text/plain": [
       "PCA(copy=True, iterated_power='auto', n_components=180, random_state=None,\n",
       "  svd_solver='auto', tol=0.0, whiten=False)"
      ]
     },
     "execution_count": 36,
     "metadata": {},
     "output_type": "execute_result"
    }
   ],
   "source": [
    "\n",
    "X = scale(X)\n",
    "\n",
    "pca = PCA(n_components=180) # all features\n",
    "\n",
    "pca.fit(X)"
   ]
  },
  {
   "cell_type": "code",
   "execution_count": 37,
   "metadata": {
    "collapsed": false
   },
   "outputs": [
    {
     "data": {
      "image/png": "[encoded data removed]",
      "text/plain": [
       "<matplotlib.figure.Figure at 0x98d0e10>"
      ]
     },
     "metadata": {},
     "output_type": "display_data"
    }
   ],
   "source": [
    "#The amount of variance that each PC explains\n",
    "var= pca.explained_variance_ratio_\n",
    "\n",
    "#Cumulative Variance explains\n",
    "var1=np.cumsum(np.round(pca.explained_variance_ratio_, decimals=4)*100)\n",
    "\n",
    "plt.plot(var1)\n",
    "plt.xlabel('Number of Componenets')\n",
    "plt.ylabel('Explained variance')\n",
    "plt.grid()\n",
    "plt.show()"
   ]
  },
  {
   "cell_type": "code",
   "execution_count": 38,
   "metadata": {
    "collapsed": false
   },
   "outputs": [],
   "source": [
    "data_importance = pd.DataFrame()"
   ]
  },
  {
   "cell_type": "code",
   "execution_count": 39,
   "metadata": {
    "collapsed": false
   },
   "outputs": [
    {
     "name": "stdout",
     "output_type": "stream",
     "text": [
      "\n",
      "Iteration no. 1 results\n",
      "Accuracy of 88.0%\n",
      "Sensitivity of 82.18%\n",
      "Specificity of 93.94%\n",
      "\n",
      "Iteration no. 2 results\n",
      "Accuracy of 84.0%\n",
      "Sensitivity of 79.09%\n",
      "Specificity of 88.89%\n",
      "\n",
      "Iteration no. 3 results\n",
      "Accuracy of 80.0%\n",
      "Sensitivity of 73.27%\n",
      "Specificity of 86.87%\n",
      "\n",
      "Iteration no. 4 results\n",
      "Accuracy of 82.0%\n",
      "Sensitivity of 72.16%\n",
      "Specificity of 90.29%\n",
      "\n",
      "Iteration no. 5 results\n",
      "Accuracy of 84.0%\n",
      "Sensitivity of 71.43%\n",
      "Specificity of 94.5%\n"
     ]
    }
   ],
   "source": [
    "bnb = BernoulliNB()\n",
    "skf = KFold(n_splits=5)\n",
    "x= 0\n",
    "data_amzn\n",
    "for train, test in skf.split(data_amzn):\n",
    "    x = x+1\n",
    "    fold = data_amzn.ix[train]\n",
    "    keep = data_amzn.ix[test]\n",
    "    targ = amzn_target.ix[train]\n",
    "    bnb = bnb.fit(data_amzn, amzn_target)\n",
    "    pred = bnb.predict(keep)\n",
    "    con_mat = confusion_matrix(amzn_target.ix[test],pred)\n",
    "    print('\\nIteration no. {} results'.format(x))\n",
    "    eval_con_mat(con_mat)"
   ]
  },
  {
   "cell_type": "code",
   "execution_count": 72,
   "metadata": {
    "collapsed": false
   },
   "outputs": [],
   "source": [
    "i = np.identity(data_amzn.shape[1]) \n",
    "num_pc= 4\n",
    "pca = PCA(n_components=num_pc)\n",
    "pca.fit(X)\n",
    "coef = pca.transform(i)\n",
    "pc_list = []\n",
    "\n",
    "for x in range(num_pc):\n",
    "    pc_list.append(x)"
   ]
  },
  {
   "cell_type": "code",
   "execution_count": 98,
   "metadata": {
    "collapsed": false
   },
   "outputs": [
    {
     "data": {
      "text/plain": [
       "0.43951904005095077"
      ]
     },
     "execution_count": 98,
     "metadata": {},
     "output_type": "execute_result"
    }
   ],
   "source": [
    "value_of_feature = pd.DataFrame(coef, columns=[pc_list], index=data_amzn.columns)\n",
    "\n",
    "value_of_feature[0].values.max()"
   ]
  },
  {
   "cell_type": "code",
   "execution_count": 77,
   "metadata": {
    "collapsed": false
   },
   "outputs": [
    {
     "data": {
      "text/plain": [
       "-0.29365031893317017"
      ]
     },
     "execution_count": 77,
     "metadata": {},
     "output_type": "execute_result"
    }
   ],
   "source": [
    "value_of_feature.values.min()"
   ]
  },
  {
   "cell_type": "code",
   "execution_count": 99,
   "metadata": {
    "collapsed": false
   },
   "outputs": [
    {
     "name": "stderr",
     "output_type": "stream",
     "text": [
      "c:\\users\\peter\\appdata\\local\\programs\\python\\python36-32\\lib\\site-packages\\ipykernel\\__main__.py:1: FutureWarning: sort(columns=....) is deprecated, use sort_values(by=.....)\n",
      "  if __name__ == '__main__':\n"
     ]
    },
    {
     "data": {
      "text/html": [
       "<div>\n",
       "<table border=\"1\" class=\"dataframe\">\n",
       "  <thead>\n",
       "    <tr style=\"text-align: right;\">\n",
       "      <th></th>\n",
       "      <th>0</th>\n",
       "      <th>1</th>\n",
       "      <th>2</th>\n",
       "      <th>3</th>\n",
       "    </tr>\n",
       "  </thead>\n",
       "  <tbody>\n",
       "    <tr>\n",
       "      <th>fav</th>\n",
       "      <td>0.439519</td>\n",
       "      <td>-0.223702</td>\n",
       "      <td>0.231220</td>\n",
       "      <td>0.156622</td>\n",
       "    </tr>\n",
       "    <tr>\n",
       "      <th>favorite</th>\n",
       "      <td>0.439519</td>\n",
       "      <td>-0.223702</td>\n",
       "      <td>0.231220</td>\n",
       "      <td>0.156622</td>\n",
       "    </tr>\n",
       "    <tr>\n",
       "      <th>favor</th>\n",
       "      <td>0.439519</td>\n",
       "      <td>-0.223702</td>\n",
       "      <td>0.231220</td>\n",
       "      <td>0.156622</td>\n",
       "    </tr>\n",
       "    <tr>\n",
       "      <th>fortunate</th>\n",
       "      <td>0.049283</td>\n",
       "      <td>0.005167</td>\n",
       "      <td>-0.072323</td>\n",
       "      <td>0.009664</td>\n",
       "    </tr>\n",
       "    <tr>\n",
       "      <th>fortunately</th>\n",
       "      <td>0.049283</td>\n",
       "      <td>0.005167</td>\n",
       "      <td>-0.072323</td>\n",
       "      <td>0.009664</td>\n",
       "    </tr>\n",
       "    <tr>\n",
       "      <th>respect</th>\n",
       "      <td>0.035542</td>\n",
       "      <td>0.004894</td>\n",
       "      <td>-0.050538</td>\n",
       "      <td>0.005233</td>\n",
       "    </tr>\n",
       "    <tr>\n",
       "      <th>excite</th>\n",
       "      <td>0.034397</td>\n",
       "      <td>0.038334</td>\n",
       "      <td>-0.034892</td>\n",
       "      <td>0.068512</td>\n",
       "    </tr>\n",
       "    <tr>\n",
       "      <th>excited</th>\n",
       "      <td>0.034397</td>\n",
       "      <td>0.038334</td>\n",
       "      <td>-0.034892</td>\n",
       "      <td>0.068512</td>\n",
       "    </tr>\n",
       "    <tr>\n",
       "      <th>cute</th>\n",
       "      <td>0.030270</td>\n",
       "      <td>0.033905</td>\n",
       "      <td>-0.028038</td>\n",
       "      <td>0.062410</td>\n",
       "    </tr>\n",
       "    <tr>\n",
       "      <th>gentle</th>\n",
       "      <td>0.029155</td>\n",
       "      <td>0.001974</td>\n",
       "      <td>-0.042225</td>\n",
       "      <td>0.007906</td>\n",
       "    </tr>\n",
       "    <tr>\n",
       "      <th>secure</th>\n",
       "      <td>0.027744</td>\n",
       "      <td>-0.001583</td>\n",
       "      <td>-0.074576</td>\n",
       "      <td>0.031953</td>\n",
       "    </tr>\n",
       "    <tr>\n",
       "      <th>cure</th>\n",
       "      <td>0.026415</td>\n",
       "      <td>-0.000605</td>\n",
       "      <td>-0.071092</td>\n",
       "      <td>0.031139</td>\n",
       "    </tr>\n",
       "    <tr>\n",
       "      <th>important</th>\n",
       "      <td>0.024710</td>\n",
       "      <td>0.000177</td>\n",
       "      <td>-0.032390</td>\n",
       "      <td>-0.000992</td>\n",
       "    </tr>\n",
       "    <tr>\n",
       "      <th>feat</th>\n",
       "      <td>0.023208</td>\n",
       "      <td>0.009721</td>\n",
       "      <td>-0.033430</td>\n",
       "      <td>0.001393</td>\n",
       "    </tr>\n",
       "    <tr>\n",
       "      <th>easy</th>\n",
       "      <td>0.021058</td>\n",
       "      <td>0.000989</td>\n",
       "      <td>-0.025658</td>\n",
       "      <td>0.007541</td>\n",
       "    </tr>\n",
       "    <tr>\n",
       "      <th>durable</th>\n",
       "      <td>0.019420</td>\n",
       "      <td>-0.001553</td>\n",
       "      <td>-0.058784</td>\n",
       "      <td>0.023526</td>\n",
       "    </tr>\n",
       "    <tr>\n",
       "      <th>securely</th>\n",
       "      <td>0.018008</td>\n",
       "      <td>-0.000671</td>\n",
       "      <td>-0.042900</td>\n",
       "      <td>0.019770</td>\n",
       "    </tr>\n",
       "    <tr>\n",
       "      <th>amazed</th>\n",
       "      <td>0.017721</td>\n",
       "      <td>-0.005980</td>\n",
       "      <td>0.018521</td>\n",
       "      <td>-0.033193</td>\n",
       "    </tr>\n",
       "    <tr>\n",
       "      <th>amaze</th>\n",
       "      <td>0.017721</td>\n",
       "      <td>-0.005980</td>\n",
       "      <td>0.018521</td>\n",
       "      <td>-0.033193</td>\n",
       "    </tr>\n",
       "    <tr>\n",
       "      <th>entertain</th>\n",
       "      <td>0.015690</td>\n",
       "      <td>0.447334</td>\n",
       "      <td>0.197947</td>\n",
       "      <td>0.262877</td>\n",
       "    </tr>\n",
       "    <tr>\n",
       "      <th>gem</th>\n",
       "      <td>0.015690</td>\n",
       "      <td>0.447334</td>\n",
       "      <td>0.197947</td>\n",
       "      <td>0.262877</td>\n",
       "    </tr>\n",
       "    <tr>\n",
       "      <th>optimal</th>\n",
       "      <td>0.015690</td>\n",
       "      <td>0.447334</td>\n",
       "      <td>0.197947</td>\n",
       "      <td>0.262877</td>\n",
       "    </tr>\n",
       "    <tr>\n",
       "      <th>correct</th>\n",
       "      <td>0.015453</td>\n",
       "      <td>-0.046077</td>\n",
       "      <td>-0.008849</td>\n",
       "      <td>-0.019408</td>\n",
       "    </tr>\n",
       "    <tr>\n",
       "      <th>correctly</th>\n",
       "      <td>0.015453</td>\n",
       "      <td>-0.046077</td>\n",
       "      <td>-0.008849</td>\n",
       "      <td>-0.019408</td>\n",
       "    </tr>\n",
       "    <tr>\n",
       "      <th>smoother</th>\n",
       "      <td>0.015294</td>\n",
       "      <td>-0.050898</td>\n",
       "      <td>-0.047651</td>\n",
       "      <td>0.006480</td>\n",
       "    </tr>\n",
       "    <tr>\n",
       "      <th>convenient</th>\n",
       "      <td>0.015294</td>\n",
       "      <td>-0.050898</td>\n",
       "      <td>-0.047651</td>\n",
       "      <td>0.006480</td>\n",
       "    </tr>\n",
       "    <tr>\n",
       "      <th>love</th>\n",
       "      <td>0.015171</td>\n",
       "      <td>0.002359</td>\n",
       "      <td>-0.030083</td>\n",
       "      <td>0.008460</td>\n",
       "    </tr>\n",
       "    <tr>\n",
       "      <th>smooth</th>\n",
       "      <td>0.014676</td>\n",
       "      <td>-0.049907</td>\n",
       "      <td>-0.049300</td>\n",
       "      <td>0.005499</td>\n",
       "    </tr>\n",
       "    <tr>\n",
       "      <th>hug</th>\n",
       "      <td>0.014285</td>\n",
       "      <td>-0.040139</td>\n",
       "      <td>-0.009008</td>\n",
       "      <td>-0.017919</td>\n",
       "    </tr>\n",
       "    <tr>\n",
       "      <th>handy</th>\n",
       "      <td>0.013719</td>\n",
       "      <td>0.001903</td>\n",
       "      <td>-0.020336</td>\n",
       "      <td>0.009053</td>\n",
       "    </tr>\n",
       "    <tr>\n",
       "      <th>...</th>\n",
       "      <td>...</td>\n",
       "      <td>...</td>\n",
       "      <td>...</td>\n",
       "      <td>...</td>\n",
       "    </tr>\n",
       "    <tr>\n",
       "      <th>ideal</th>\n",
       "      <td>-0.014232</td>\n",
       "      <td>-0.020137</td>\n",
       "      <td>-0.016279</td>\n",
       "      <td>0.015544</td>\n",
       "    </tr>\n",
       "    <tr>\n",
       "      <th>sensitive</th>\n",
       "      <td>-0.014232</td>\n",
       "      <td>-0.020137</td>\n",
       "      <td>-0.016279</td>\n",
       "      <td>0.015544</td>\n",
       "    </tr>\n",
       "    <tr>\n",
       "      <th>nice</th>\n",
       "      <td>-0.014245</td>\n",
       "      <td>0.003198</td>\n",
       "      <td>-0.000267</td>\n",
       "      <td>-0.027327</td>\n",
       "    </tr>\n",
       "    <tr>\n",
       "      <th>pleasantly</th>\n",
       "      <td>-0.014248</td>\n",
       "      <td>-0.003152</td>\n",
       "      <td>-0.014894</td>\n",
       "      <td>-0.011006</td>\n",
       "    </tr>\n",
       "    <tr>\n",
       "      <th>pleasant</th>\n",
       "      <td>-0.014248</td>\n",
       "      <td>-0.003152</td>\n",
       "      <td>-0.014894</td>\n",
       "      <td>-0.011006</td>\n",
       "    </tr>\n",
       "    <tr>\n",
       "      <th>works</th>\n",
       "      <td>-0.014421</td>\n",
       "      <td>0.002376</td>\n",
       "      <td>-0.026828</td>\n",
       "      <td>-0.038577</td>\n",
       "    </tr>\n",
       "    <tr>\n",
       "      <th>flawlessly</th>\n",
       "      <td>-0.014631</td>\n",
       "      <td>0.003591</td>\n",
       "      <td>-0.011457</td>\n",
       "      <td>-0.006627</td>\n",
       "    </tr>\n",
       "    <tr>\n",
       "      <th>elegant</th>\n",
       "      <td>-0.014724</td>\n",
       "      <td>0.005056</td>\n",
       "      <td>-0.003232</td>\n",
       "      <td>-0.007407</td>\n",
       "    </tr>\n",
       "    <tr>\n",
       "      <th>worked</th>\n",
       "      <td>-0.015325</td>\n",
       "      <td>-0.000836</td>\n",
       "      <td>-0.015890</td>\n",
       "      <td>-0.007816</td>\n",
       "    </tr>\n",
       "    <tr>\n",
       "      <th>work</th>\n",
       "      <td>-0.017585</td>\n",
       "      <td>0.004115</td>\n",
       "      <td>-0.039339</td>\n",
       "      <td>-0.033256</td>\n",
       "    </tr>\n",
       "    <tr>\n",
       "      <th>perfect</th>\n",
       "      <td>-0.017912</td>\n",
       "      <td>-0.009151</td>\n",
       "      <td>-0.005793</td>\n",
       "      <td>-0.007670</td>\n",
       "    </tr>\n",
       "    <tr>\n",
       "      <th>perfectly</th>\n",
       "      <td>-0.018128</td>\n",
       "      <td>-0.009404</td>\n",
       "      <td>-0.005742</td>\n",
       "      <td>-0.007778</td>\n",
       "    </tr>\n",
       "    <tr>\n",
       "      <th>worth</th>\n",
       "      <td>-0.019045</td>\n",
       "      <td>-0.020799</td>\n",
       "      <td>-0.006396</td>\n",
       "      <td>-0.013687</td>\n",
       "    </tr>\n",
       "    <tr>\n",
       "      <th>cool</th>\n",
       "      <td>-0.023209</td>\n",
       "      <td>-0.002984</td>\n",
       "      <td>-0.002172</td>\n",
       "      <td>-0.009060</td>\n",
       "    </tr>\n",
       "    <tr>\n",
       "      <th>clearly</th>\n",
       "      <td>-0.023407</td>\n",
       "      <td>-0.010491</td>\n",
       "      <td>0.005737</td>\n",
       "      <td>-0.006483</td>\n",
       "    </tr>\n",
       "    <tr>\n",
       "      <th>ready</th>\n",
       "      <td>-0.025510</td>\n",
       "      <td>-0.011221</td>\n",
       "      <td>0.004999</td>\n",
       "      <td>-0.006232</td>\n",
       "    </tr>\n",
       "    <tr>\n",
       "      <th>commend</th>\n",
       "      <td>-0.031537</td>\n",
       "      <td>0.019020</td>\n",
       "      <td>-0.008423</td>\n",
       "      <td>-0.027780</td>\n",
       "    </tr>\n",
       "    <tr>\n",
       "      <th>recommend</th>\n",
       "      <td>-0.031674</td>\n",
       "      <td>0.019017</td>\n",
       "      <td>-0.008167</td>\n",
       "      <td>-0.027854</td>\n",
       "    </tr>\n",
       "    <tr>\n",
       "      <th>impressed</th>\n",
       "      <td>-0.039130</td>\n",
       "      <td>-0.014670</td>\n",
       "      <td>0.046419</td>\n",
       "      <td>-0.041334</td>\n",
       "    </tr>\n",
       "    <tr>\n",
       "      <th>right</th>\n",
       "      <td>-0.068766</td>\n",
       "      <td>-0.023308</td>\n",
       "      <td>0.160684</td>\n",
       "      <td>-0.074058</td>\n",
       "    </tr>\n",
       "    <tr>\n",
       "      <th>impress</th>\n",
       "      <td>-0.075847</td>\n",
       "      <td>-0.030887</td>\n",
       "      <td>0.136479</td>\n",
       "      <td>-0.091821</td>\n",
       "    </tr>\n",
       "    <tr>\n",
       "      <th>impressive</th>\n",
       "      <td>-0.094357</td>\n",
       "      <td>-0.041098</td>\n",
       "      <td>0.220501</td>\n",
       "      <td>-0.126991</td>\n",
       "    </tr>\n",
       "    <tr>\n",
       "      <th>ample</th>\n",
       "      <td>-0.103047</td>\n",
       "      <td>-0.042631</td>\n",
       "      <td>0.249330</td>\n",
       "      <td>-0.140201</td>\n",
       "    </tr>\n",
       "    <tr>\n",
       "      <th>geeky</th>\n",
       "      <td>-0.129253</td>\n",
       "      <td>-0.027237</td>\n",
       "      <td>0.371436</td>\n",
       "      <td>-0.197307</td>\n",
       "    </tr>\n",
       "    <tr>\n",
       "      <th>stylish</th>\n",
       "      <td>-0.129253</td>\n",
       "      <td>-0.027237</td>\n",
       "      <td>0.371436</td>\n",
       "      <td>-0.197307</td>\n",
       "    </tr>\n",
       "    <tr>\n",
       "      <th>sleek</th>\n",
       "      <td>-0.164343</td>\n",
       "      <td>-0.049429</td>\n",
       "      <td>0.439168</td>\n",
       "      <td>-0.238774</td>\n",
       "    </tr>\n",
       "    <tr>\n",
       "      <th>won</th>\n",
       "      <td>-0.223094</td>\n",
       "      <td>-0.180356</td>\n",
       "      <td>0.045320</td>\n",
       "      <td>0.265512</td>\n",
       "    </tr>\n",
       "    <tr>\n",
       "      <th>wonder</th>\n",
       "      <td>-0.277116</td>\n",
       "      <td>-0.226648</td>\n",
       "      <td>0.048413</td>\n",
       "      <td>0.341429</td>\n",
       "    </tr>\n",
       "    <tr>\n",
       "      <th>wonderfully</th>\n",
       "      <td>-0.293650</td>\n",
       "      <td>-0.240235</td>\n",
       "      <td>0.050804</td>\n",
       "      <td>0.362229</td>\n",
       "    </tr>\n",
       "    <tr>\n",
       "      <th>wonderful</th>\n",
       "      <td>-0.293650</td>\n",
       "      <td>-0.240235</td>\n",
       "      <td>0.050804</td>\n",
       "      <td>0.362229</td>\n",
       "    </tr>\n",
       "  </tbody>\n",
       "</table>\n",
       "<p>2006 rows × 4 columns</p>\n",
       "</div>"
      ],
      "text/plain": [
       "                    0         1         2         3\n",
       "fav          0.439519 -0.223702  0.231220  0.156622\n",
       "favorite     0.439519 -0.223702  0.231220  0.156622\n",
       "favor        0.439519 -0.223702  0.231220  0.156622\n",
       "fortunate    0.049283  0.005167 -0.072323  0.009664\n",
       "fortunately  0.049283  0.005167 -0.072323  0.009664\n",
       "respect      0.035542  0.004894 -0.050538  0.005233\n",
       "excite       0.034397  0.038334 -0.034892  0.068512\n",
       "excited      0.034397  0.038334 -0.034892  0.068512\n",
       "cute         0.030270  0.033905 -0.028038  0.062410\n",
       "gentle       0.029155  0.001974 -0.042225  0.007906\n",
       "secure       0.027744 -0.001583 -0.074576  0.031953\n",
       "cure         0.026415 -0.000605 -0.071092  0.031139\n",
       "important    0.024710  0.000177 -0.032390 -0.000992\n",
       "feat         0.023208  0.009721 -0.033430  0.001393\n",
       "easy         0.021058  0.000989 -0.025658  0.007541\n",
       "durable      0.019420 -0.001553 -0.058784  0.023526\n",
       "securely     0.018008 -0.000671 -0.042900  0.019770\n",
       "amazed       0.017721 -0.005980  0.018521 -0.033193\n",
       "amaze        0.017721 -0.005980  0.018521 -0.033193\n",
       "entertain    0.015690  0.447334  0.197947  0.262877\n",
       "gem          0.015690  0.447334  0.197947  0.262877\n",
       "optimal      0.015690  0.447334  0.197947  0.262877\n",
       "correct      0.015453 -0.046077 -0.008849 -0.019408\n",
       "correctly    0.015453 -0.046077 -0.008849 -0.019408\n",
       "smoother     0.015294 -0.050898 -0.047651  0.006480\n",
       "convenient   0.015294 -0.050898 -0.047651  0.006480\n",
       "love         0.015171  0.002359 -0.030083  0.008460\n",
       "smooth       0.014676 -0.049907 -0.049300  0.005499\n",
       "hug          0.014285 -0.040139 -0.009008 -0.017919\n",
       "handy        0.013719  0.001903 -0.020336  0.009053\n",
       "...               ...       ...       ...       ...\n",
       "ideal       -0.014232 -0.020137 -0.016279  0.015544\n",
       "sensitive   -0.014232 -0.020137 -0.016279  0.015544\n",
       "nice        -0.014245  0.003198 -0.000267 -0.027327\n",
       "pleasantly  -0.014248 -0.003152 -0.014894 -0.011006\n",
       "pleasant    -0.014248 -0.003152 -0.014894 -0.011006\n",
       "works       -0.014421  0.002376 -0.026828 -0.038577\n",
       "flawlessly  -0.014631  0.003591 -0.011457 -0.006627\n",
       "elegant     -0.014724  0.005056 -0.003232 -0.007407\n",
       "worked      -0.015325 -0.000836 -0.015890 -0.007816\n",
       "work        -0.017585  0.004115 -0.039339 -0.033256\n",
       "perfect     -0.017912 -0.009151 -0.005793 -0.007670\n",
       "perfectly   -0.018128 -0.009404 -0.005742 -0.007778\n",
       "worth       -0.019045 -0.020799 -0.006396 -0.013687\n",
       "cool        -0.023209 -0.002984 -0.002172 -0.009060\n",
       "clearly     -0.023407 -0.010491  0.005737 -0.006483\n",
       "ready       -0.025510 -0.011221  0.004999 -0.006232\n",
       "commend     -0.031537  0.019020 -0.008423 -0.027780\n",
       "recommend   -0.031674  0.019017 -0.008167 -0.027854\n",
       "impressed   -0.039130 -0.014670  0.046419 -0.041334\n",
       "right       -0.068766 -0.023308  0.160684 -0.074058\n",
       "impress     -0.075847 -0.030887  0.136479 -0.091821\n",
       "impressive  -0.094357 -0.041098  0.220501 -0.126991\n",
       "ample       -0.103047 -0.042631  0.249330 -0.140201\n",
       "geeky       -0.129253 -0.027237  0.371436 -0.197307\n",
       "stylish     -0.129253 -0.027237  0.371436 -0.197307\n",
       "sleek       -0.164343 -0.049429  0.439168 -0.238774\n",
       "won         -0.223094 -0.180356  0.045320  0.265512\n",
       "wonder      -0.277116 -0.226648  0.048413  0.341429\n",
       "wonderfully -0.293650 -0.240235  0.050804  0.362229\n",
       "wonderful   -0.293650 -0.240235  0.050804  0.362229\n",
       "\n",
       "[2006 rows x 4 columns]"
      ]
     },
     "execution_count": 99,
     "metadata": {},
     "output_type": "execute_result"
    }
   ],
   "source": [
    "value_of_feature.sort([0], ascending = False)"
   ]
  },
  {
   "cell_type": "markdown",
   "metadata": {},
   "source": [
    "<h5>Is any of the data overfit?:</h5>\n",
    "    Based on the similarities between our five iteriations it doesn't seem that our model is overfitting.\n",
    "\n",
    "<h5>Which seem to perform the best? Why?:</h5>\n",
    "    Iteration number 1 seems have have the best performance.  This is likely due to the skewness between the folds, where the data is more balanced between positive and negative reviews for the Training data for Iteration 1 than the rest of the iterations.  \n",
    "    \n",
    "<h5>What features seemed to be most impactful to performance?:</h5>\n",
    "    It seems the words 'fav', 'favorite' and 'favor' had the most variance and thus were the strongest predictive features."
   ]
  },
  {
   "cell_type": "code",
   "execution_count": null,
   "metadata": {
    "collapsed": true
   },
   "outputs": [],
   "source": []
  }
 ],
 "metadata": {
  "kernelspec": {
   "display_name": "Python 3",
   "language": "python",
   "name": "python3"
  },
  "language_info": {
   "codemirror_mode": {
    "name": "ipython",
    "version": 3
   },
   "file_extension": ".py",
   "mimetype": "text/x-python",
   "name": "python",
   "nbconvert_exporter": "python",
   "pygments_lexer": "ipython3",
   "version": "3.6.0"
  }
 },
 "nbformat": 4,
 "nbformat_minor": 2
}
