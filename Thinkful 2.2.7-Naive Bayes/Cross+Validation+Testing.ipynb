{
 "cells": [
  {
   "cell_type": "code",
   "execution_count": 10,
   "metadata": {
    "collapsed": true
   },
   "outputs": [],
   "source": [
    "import pandas as pd\n",
    "import sklearn\n",
    "import numpy as np\n",
    "import matplotlib.pyplot as plt"
   ]
  },
  {
   "cell_type": "code",
   "execution_count": 11,
   "metadata": {
    "collapsed": false
   },
   "outputs": [],
   "source": [
    "# Grab and process the raw data.\n",
    "data_path = (\"https://raw.githubusercontent.com/Thinkful-Ed/data-201-resources/\"\n",
    "             \"master/sms_spam_collection/SMSSpamCollection\"\n",
    "            )\n",
    "\n",
    "sms_raw = pd.read_csv(data_path, delimiter= '\\t', header=None)\n",
    "sms_raw.columns = ['spam', 'message']\n",
    "\n",
    "# Enumerate our spammy keywords.\n",
    "keywords = ['click', 'offer', 'winner', 'buy', 'free', 'cash', 'urgent']\n",
    "\n",
    "for key in keywords:\n",
    "    sms_raw[str(key)] = sms_raw.message.str.contains(\n",
    "        ' ' + str(key) + ' ',\n",
    "        case=False\n",
    ")\n",
    "\n",
    "sms_raw['allcaps'] = sms_raw.message.str.isupper()\n",
    "sms_raw['spam'] = (sms_raw['spam'] == 'spam')\n",
    "data = sms_raw[keywords + ['allcaps']]\n",
    "target = sms_raw['spam']\n",
    "\n",
    "from sklearn.naive_bayes import BernoulliNB\n",
    "bnb = BernoulliNB()\n",
    "y_pred = bnb.fit(data, target).predict(data)"
   ]
  },
  {
   "cell_type": "code",
   "execution_count": 12,
   "metadata": {
    "collapsed": false
   },
   "outputs": [
    {
     "name": "stdout",
     "output_type": "stream",
     "text": [
      "Number of properly labeled points out of a total 5572 points : 4968.  This equates to an accuracy of 89.16%\n"
     ]
    }
   ],
   "source": [
    "print(\"Number of properly labeled points out of a total {} points : {}.  This equates to an accuracy of {}%\".format(\n",
    "    data.shape[0],\n",
    "    (target == y_pred).sum(),\n",
    "    round((target == y_pred).sum()/data.shape[0]*100, 2)\n",
    "))"
   ]
  },
  {
   "cell_type": "markdown",
   "metadata": {},
   "source": [
    "On the complete set of data the accuracy was 89%.  Checking with cross validation now."
   ]
  },
  {
   "cell_type": "code",
   "execution_count": 105,
   "metadata": {
    "collapsed": false
   },
   "outputs": [],
   "source": [
    "#make 3 folds of the data of equal size\n",
    "fold_one = sms_raw[keywords + ['allcaps']].ix[:1856]\n",
    "fold_two = sms_raw[keywords + ['allcaps']].ix[1857:3713]\n",
    "fold_three = sms_raw[keywords + ['allcaps']].ix[3714:5570]\n",
    "\n",
    "#make targets for the 3 folds of data\n",
    "fold_one_tar = sms_raw['spam'].ix[:1856]\n",
    "fold_two_tar = sms_raw['spam'].ix[1857:3713]\n",
    "fold_three_tar = sms_raw['spam'].ix[3714:5570]"
   ]
  },
  {
   "cell_type": "code",
   "execution_count": 106,
   "metadata": {
    "collapsed": false
   },
   "outputs": [],
   "source": [
    "#use fold 1 as the training fold and test the other two folds\n",
    "fold1_test_2 = bnb.fit(fold_one, fold_one_tar).predict(fold_two)\n",
    "fold1_test_3 = bnb.fit(fold_one, fold_one_tar).predict(fold_three)"
   ]
  },
  {
   "cell_type": "code",
   "execution_count": 108,
   "metadata": {
    "collapsed": false
   },
   "outputs": [],
   "source": [
    "def checktest(data, target, prediction):\n",
    "    print(\"Number of properly labeled points out of a total {} points : {}.  This equates to an accuracy of {}%\".format(\n",
    "    data.shape[0],\n",
    "    (target == prediction).sum(),\n",
    "    round((target == prediction).sum()/data.shape[0]*100, 2)\n",
    "))"
   ]
  },
  {
   "cell_type": "code",
   "execution_count": 109,
   "metadata": {
    "collapsed": false
   },
   "outputs": [
    {
     "name": "stdout",
     "output_type": "stream",
     "text": [
      "Number of properly labeled points out of a total 1857 points : 1667.  This equates to an accuracy of 89.77%\n"
     ]
    }
   ],
   "source": [
    "checktest(fold_two, fold_two_tar, fold1_test_2)"
   ]
  },
  {
   "cell_type": "code",
   "execution_count": 110,
   "metadata": {
    "collapsed": false
   },
   "outputs": [
    {
     "name": "stdout",
     "output_type": "stream",
     "text": [
      "Number of properly labeled points out of a total 1857 points : 1644.  This equates to an accuracy of 88.53%\n"
     ]
    }
   ],
   "source": [
    "checktest(fold_three, fold_three_tar, fold1_test_3)"
   ]
  },
  {
   "cell_type": "markdown",
   "metadata": {},
   "source": [
    "In the first round testing the algorithm using fold one as training data we achieved a roughly 89% accuracy.  Now to use fold two as the training data."
   ]
  },
  {
   "cell_type": "code",
   "execution_count": 115,
   "metadata": {
    "collapsed": true
   },
   "outputs": [],
   "source": [
    "#use fold 2 as the training fold and test the other two folds\n",
    "fold2_test_1 = bnb.fit(fold_two, fold_two_tar).predict(fold_one)\n",
    "fold2_test_3 = bnb.fit(fold_two, fold_two_tar).predict(fold_three)"
   ]
  },
  {
   "cell_type": "code",
   "execution_count": 116,
   "metadata": {
    "collapsed": false
   },
   "outputs": [
    {
     "name": "stdout",
     "output_type": "stream",
     "text": [
      "Number of properly labeled points out of a total 1857 points : 1651.  This equates to an accuracy of 88.91%\n"
     ]
    }
   ],
   "source": [
    "checktest(fold_one, fold_one_tar, fold2_test_1)"
   ]
  },
  {
   "cell_type": "code",
   "execution_count": 117,
   "metadata": {
    "collapsed": false
   },
   "outputs": [
    {
     "name": "stdout",
     "output_type": "stream",
     "text": [
      "Number of properly labeled points out of a total 1857 points : 1645.  This equates to an accuracy of 88.58%\n"
     ]
    }
   ],
   "source": [
    "checktest(fold_three, fold_three_tar, fold2_test_3)"
   ]
  },
  {
   "cell_type": "markdown",
   "metadata": {},
   "source": [
    "In the second round of testing we again achieved a roughly 89% accuracy. Now to cross validate for the third time with fold 3 as the training data."
   ]
  },
  {
   "cell_type": "code",
   "execution_count": 118,
   "metadata": {
    "collapsed": true
   },
   "outputs": [],
   "source": [
    "#use fold 3 as the training fold and test the other two folds\n",
    "fold3_test_1 = bnb.fit(fold_three, fold_three_tar).predict(fold_one)\n",
    "fold3_test_2 = bnb.fit(fold_three, fold_three_tar).predict(fold_two)"
   ]
  },
  {
   "cell_type": "code",
   "execution_count": 119,
   "metadata": {
    "collapsed": false
   },
   "outputs": [
    {
     "name": "stdout",
     "output_type": "stream",
     "text": [
      "Number of properly labeled points out of a total 1857 points : 1651.  This equates to an accuracy of 88.91%\n"
     ]
    }
   ],
   "source": [
    "checktest(fold_one, fold_one_tar, fold3_test_1)"
   ]
  },
  {
   "cell_type": "code",
   "execution_count": 120,
   "metadata": {
    "collapsed": false
   },
   "outputs": [
    {
     "name": "stdout",
     "output_type": "stream",
     "text": [
      "Number of properly labeled points out of a total 1857 points : 1669.  This equates to an accuracy of 89.88%\n"
     ]
    }
   ],
   "source": [
    "checktest(fold_two, fold_two_tar, fold3_test_2)"
   ]
  },
  {
   "cell_type": "markdown",
   "metadata": {},
   "source": [
    "For all the cross validation tests we did we achieved a roughly 89% accuracy suggesting that it is unlikely that any point in the data is skewing the results. "
   ]
  },
  {
   "cell_type": "code",
   "execution_count": null,
   "metadata": {
    "collapsed": true
   },
   "outputs": [],
   "source": []
  }
 ],
 "metadata": {
  "kernelspec": {
   "display_name": "Python 3",
   "language": "python",
   "name": "python3"
  },
  "language_info": {
   "codemirror_mode": {
    "name": "ipython",
    "version": 3
   },
   "file_extension": ".py",
   "mimetype": "text/x-python",
   "name": "python",
   "nbconvert_exporter": "python",
   "pygments_lexer": "ipython3",
   "version": "3.6.0"
  }
 },
 "nbformat": 4,
 "nbformat_minor": 2
}
