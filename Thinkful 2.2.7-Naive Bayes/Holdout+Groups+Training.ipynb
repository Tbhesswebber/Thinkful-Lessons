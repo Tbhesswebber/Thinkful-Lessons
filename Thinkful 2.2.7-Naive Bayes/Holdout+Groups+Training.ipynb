{
 "cells": [
  {
   "cell_type": "code",
   "execution_count": null,
   "metadata": {
    "collapsed": true
   },
   "outputs": [],
   "source": [
    "import pandas as pd\n",
    "import sklearn\n",
    "import numpy as np\n",
    "import matplotlib.pyplot as plt"
   ]
  },
  {
   "cell_type": "code",
   "execution_count": null,
   "metadata": {
    "collapsed": false
   },
   "outputs": [],
   "source": [
    "# Grab and process the raw data.\n",
    "data_path = (\"https://raw.githubusercontent.com/Thinkful-Ed/data-201-resources/\"\n",
    "             \"master/sms_spam_collection/SMSSpamCollection\"\n",
    "            )\n",
    "\n",
    "sms_raw = pd.read_csv(data_path, delimiter= '\\t', header=None)\n",
    "sms_raw.columns = ['spam', 'message']\n",
    "\n",
    "# Enumerate our spammy keywords.\n",
    "keywords = ['click', 'offer', 'winner', 'buy', 'free', 'cash', 'urgent']\n",
    "\n",
    "for key in keywords:\n",
    "    sms_raw[str(key)] = sms_raw.message.str.contains(\n",
    "        ' ' + str(key) + ' ',\n",
    "        case=False\n",
    ")\n",
    "\n",
    "sms_raw['allcaps'] = sms_raw.message.str.isupper()\n",
    "sms_raw['spam'] = (sms_raw['spam'] == 'spam')\n",
    "data = sms_raw[keywords + ['allcaps']]\n",
    "target = sms_raw['spam']\n",
    "\n",
    "from sklearn.naive_bayes import BernoulliNB\n",
    "bnb = BernoulliNB()\n",
    "y_pred = bnb.fit(data, target).predict(data)"
   ]
  },
  {
   "cell_type": "code",
   "execution_count": 88,
   "metadata": {
    "collapsed": false
   },
   "outputs": [
    {
     "name": "stdout",
     "output_type": "stream",
     "text": [
      "Number of properly labeled points out of a total 5572 points : 4968.  This equates to an accuracy of 89.16%\n"
     ]
    }
   ],
   "source": [
    "print(\"Number of properly labeled points out of a total {} points : {}.  This equates to an accuracy of {}%\".format(\n",
    "    data.shape[0],\n",
    "    (target == y_pred).sum(),\n",
    "    round((target == y_pred).sum()/data.shape[0]*100, 2)\n",
    "))"
   ]
  },
  {
   "cell_type": "markdown",
   "metadata": {},
   "source": [
    "On the complete set of data the accuracy was 89%.  Checking with holdout groups now."
   ]
  },
  {
   "cell_type": "code",
   "execution_count": 78,
   "metadata": {
    "collapsed": true
   },
   "outputs": [],
   "source": [
    "#Holdout Group 1, used for training the algorithm\n",
    "sms_holdout1 = sms_raw[:2000]\n",
    "training_data = sms_holdout1[keywords + ['allcaps']]\n",
    "target_data= sms_holdout1['spam'] \n",
    "\n",
    "#Holdout Group 2, used for first test of the trained algorithm\n",
    "sms_holdout2 = sms_raw[2001:4000]\n",
    "data2=sms_holdout2[keywords + ['allcaps']]\n",
    "data2_target = sms_holdout2['spam'] \n",
    "\n",
    "#Holdout Group 2, used for second test of the trained algorithm\n",
    "sms_holdout3 = sms_raw[4001:5572]\n",
    "data3 = sms_holdout3[keywords + ['allcaps']]\n",
    "data3_target = sms_holdout3['spam'] "
   ]
  },
  {
   "cell_type": "code",
   "execution_count": 79,
   "metadata": {
    "collapsed": false
   },
   "outputs": [],
   "source": [
    "t_pred = bnb.fit(training_data, target_data).predict(training_data)"
   ]
  },
  {
   "cell_type": "code",
   "execution_count": 80,
   "metadata": {
    "collapsed": false
   },
   "outputs": [
    {
     "name": "stdout",
     "output_type": "stream",
     "text": [
      "Number of properly labeled points out of a total 2000 points : 1783.  This equates to an accuracy of 89.15%\n"
     ]
    }
   ],
   "source": [
    "print(\"Number of properly labeled points out of a total {} points : {}.  This equates to an accuracy of {}%\".format(\n",
    "    training_data.shape[0],\n",
    "    (target_data == t_pred).sum(),\n",
    "    round((target_data == t_pred).sum()/training_data.shape[0]*100, 2)\n",
    "))"
   ]
  },
  {
   "cell_type": "markdown",
   "metadata": {},
   "source": [
    "<h4>Now that we have trained the algorthm and tested it on the training data lets take a look at our two holdout groups.</h4>"
   ]
  },
  {
   "cell_type": "code",
   "execution_count": 81,
   "metadata": {
    "collapsed": false
   },
   "outputs": [],
   "source": [
    "test1 = bnb.fit(training_data, target_data).predict(data2)\n"
   ]
  },
  {
   "cell_type": "code",
   "execution_count": 82,
   "metadata": {
    "collapsed": false
   },
   "outputs": [
    {
     "name": "stdout",
     "output_type": "stream",
     "text": [
      "Number of properly labeled points out of a total 1999 points : 1785.  This equates to an accuracy of 89.29%\n"
     ]
    }
   ],
   "source": [
    "print(\"Number of properly labeled points out of a total {} points : {}.  This equates to an accuracy of {}%\".format(\n",
    "    data2.shape[0],\n",
    "    (data2_target == test1).sum(),\n",
    "    round((data2_target == test1).sum()/data2.shape[0]*100, 2)\n",
    "))"
   ]
  },
  {
   "cell_type": "markdown",
   "metadata": {},
   "source": [
    "<h4>Test group 1 looks to match the results from our training data, so lets take a look at test group 2.</h4>"
   ]
  },
  {
   "cell_type": "code",
   "execution_count": 83,
   "metadata": {
    "collapsed": true
   },
   "outputs": [],
   "source": [
    "test2 = bnb.fit(training_data, target_data).predict(data3)"
   ]
  },
  {
   "cell_type": "code",
   "execution_count": 84,
   "metadata": {
    "collapsed": false
   },
   "outputs": [
    {
     "name": "stdout",
     "output_type": "stream",
     "text": [
      "Number of properly labeled points out of a total 1571 points : 1395.  This equates to an accuracy of 88.8%\n"
     ]
    }
   ],
   "source": [
    "print(\"Number of properly labeled points out of a total {} points : {}.  This equates to an accuracy of {}%\".format(\n",
    "    data3.shape[0],\n",
    "    (data3_target == test2).sum(),\n",
    "    round((data3_target == test2).sum()/data3.shape[0]*100, 2)\n",
    "))"
   ]
  },
  {
   "cell_type": "markdown",
   "metadata": {},
   "source": [
    "<h4>It seems that our trained algorithm works roughly as well on our tested data as it does on the testing data we held back.</h4>\n"
   ]
  },
  {
   "cell_type": "code",
   "execution_count": null,
   "metadata": {
    "collapsed": true
   },
   "outputs": [],
   "source": []
  }
 ],
 "metadata": {
  "kernelspec": {
   "display_name": "Python 3",
   "language": "python",
   "name": "python3"
  },
  "language_info": {
   "codemirror_mode": {
    "name": "ipython",
    "version": 3
   },
   "file_extension": ".py",
   "mimetype": "text/x-python",
   "name": "python",
   "nbconvert_exporter": "python",
   "pygments_lexer": "ipython3",
   "version": "3.6.0"
  }
 },
 "nbformat": 4,
 "nbformat_minor": 2
}
