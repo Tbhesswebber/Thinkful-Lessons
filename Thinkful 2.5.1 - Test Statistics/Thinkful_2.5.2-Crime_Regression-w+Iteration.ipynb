{
 "cells": [
  {
   "cell_type": "code",
   "execution_count": null,
   "metadata": {
    "collapsed": true
   },
   "outputs": [],
   "source": [
    "import pandas as pd\n",
    "import numpy as np\n",
    "import seaborn as sns\n",
    "import html\n",
    "%matplotlib inline\n",
    "from sklearn import linear_model"
   ]
  },
  {
   "cell_type": "code",
   "execution_count": 46,
   "metadata": {
    "collapsed": false
   },
   "outputs": [],
   "source": [
    "train_path ='https://raw.githubusercontent.com/Thinkful-Ed/data-201-resources/master/New_York_offenses/NEW_YORK-Offenses_Known_to_Law_Enforcement_by_City_2013%20-%2013tbl8ny.csv'\n",
    "test_path = 'https://raw.githubusercontent.com/gurkpet/Thinkful-Lessons/8b1bfca035fc0505813326ee7ceb370d514e1884/Thinkful%202.5.1%20-%20Test%20Statistics/Table_8_Offenses_Known_to_Law_Enforcement_by_New_York_by_City_2014.txt'\n",
    "train_data = pd.read_csv(train_path, skiprows=4, skipfooter=3, engine='python', thousands=\",\")\n",
    "test_data = pd.DataFrame()\n",
    "test_data = pd.read_table(test_path, skiprows=0, skipfooter=7, engine='python', thousands=\",\")\n",
    "\n",
    "test_data.drop(test_data.columns[len(test_data.columns)-1], axis=1, inplace=True)"
   ]
  },
  {
   "cell_type": "code",
   "execution_count": 47,
   "metadata": {
    "collapsed": false
   },
   "outputs": [],
   "source": [
    "train_data = train_data.drop('Rape\\n(revised\\ndefinition)1', 1)\n",
    "test_data = test_data.drop('Rape\\n(revised\\ndefinition)1', 1)"
   ]
  },
  {
   "cell_type": "code",
   "execution_count": 48,
   "metadata": {
    "collapsed": false
   },
   "outputs": [],
   "source": [
    "train_data = train_data.fillna(train_data.median(), inplace = True)\n",
    "test_data = test_data.fillna(test_data.median(), inplace = True)"
   ]
  },
  {
   "cell_type": "code",
   "execution_count": 49,
   "metadata": {
    "collapsed": false
   },
   "outputs": [],
   "source": [
    "column_heads= ['City',\n",
    "               'Population',\n",
    "              'Violent_Crime',\n",
    "               'Murder',\n",
    "               'Rape',\n",
    "               'Robbery',\n",
    "               'Aggravated_Assult',\n",
    "               'Property_Crime',\n",
    "               'Burglary',\n",
    "               'Larceny_Theft',\n",
    "               'Motor_Vehicle_Theft',\n",
    "               'Arson'\n",
    "              ]"
   ]
  },
  {
   "cell_type": "code",
   "execution_count": 50,
   "metadata": {
    "collapsed": false
   },
   "outputs": [],
   "source": [
    "train_data.columns = [column_heads]\n",
    "test_data.columns = [column_heads]"
   ]
  },
  {
   "cell_type": "code",
   "execution_count": 51,
   "metadata": {
    "collapsed": false
   },
   "outputs": [
    {
     "data": {
      "text/plain": [
       "City                   0.0\n",
       "Population             0.0\n",
       "Violent_Crime          0.0\n",
       "Murder                 0.0\n",
       "Rape                   0.0\n",
       "Robbery                0.0\n",
       "Aggravated_Assult      0.0\n",
       "Property_Crime         0.0\n",
       "Burglary               0.0\n",
       "Larceny_Theft          0.0\n",
       "Motor_Vehicle_Theft    0.0\n",
       "Arson                  0.0\n",
       "dtype: float64"
      ]
     },
     "execution_count": 51,
     "metadata": {},
     "output_type": "execute_result"
    }
   ],
   "source": [
    "(test_data.isnull().sum()/len(test_data))*100"
   ]
  },
  {
   "cell_type": "code",
   "execution_count": 52,
   "metadata": {
    "collapsed": false
   },
   "outputs": [
    {
     "data": {
      "text/plain": [
       "City                   0.0\n",
       "Population             0.0\n",
       "Violent_Crime          0.0\n",
       "Murder                 0.0\n",
       "Rape                   0.0\n",
       "Robbery                0.0\n",
       "Aggravated_Assult      0.0\n",
       "Property_Crime         0.0\n",
       "Burglary               0.0\n",
       "Larceny_Theft          0.0\n",
       "Motor_Vehicle_Theft    0.0\n",
       "Arson                  0.0\n",
       "dtype: float64"
      ]
     },
     "execution_count": 52,
     "metadata": {},
     "output_type": "execute_result"
    }
   ],
   "source": [
    "(train_data.isnull().sum()/len(train_data))*100"
   ]
  },
  {
   "cell_type": "code",
   "execution_count": 53,
   "metadata": {
    "collapsed": false
   },
   "outputs": [
    {
     "name": "stdout",
     "output_type": "stream",
     "text": [
      "(369, 12) <--- test data shape\n",
      "(348, 12) <--- train data shape\n"
     ]
    }
   ],
   "source": [
    "print(test_data.shape, '<--- test data shape')\n",
    "print(train_data.shape, '<--- train data shape')"
   ]
  },
  {
   "cell_type": "code",
   "execution_count": 56,
   "metadata": {
    "collapsed": false
   },
   "outputs": [],
   "source": [
    "test_data['City'] = test_data.City.str.strip('5 4,')\n",
    "test_data = test_data.dropna()"
   ]
  },
  {
   "cell_type": "code",
   "execution_count": 57,
   "metadata": {
    "collapsed": false
   },
   "outputs": [],
   "source": [
    "train_data['IncidentsOfPropertyCrime'] = (train_data.Burglary.astype(int) + train_data.Robbery +\n",
    "    train_data.Larceny_Theft + train_data.Motor_Vehicle_Theft)"
   ]
  },
  {
   "cell_type": "code",
   "execution_count": 65,
   "metadata": {
    "collapsed": false
   },
   "outputs": [
    {
     "data": {
      "text/html": [
       "<div>\n",
       "<table border=\"1\" class=\"dataframe\">\n",
       "  <thead>\n",
       "    <tr style=\"text-align: right;\">\n",
       "      <th></th>\n",
       "      <th>Population</th>\n",
       "      <th>Violent_Crime</th>\n",
       "      <th>Murder</th>\n",
       "      <th>Rape</th>\n",
       "      <th>Robbery</th>\n",
       "      <th>Aggravated_Assult</th>\n",
       "      <th>Property_Crime</th>\n",
       "      <th>Burglary</th>\n",
       "      <th>Larceny_Theft</th>\n",
       "      <th>Motor_Vehicle_Theft</th>\n",
       "      <th>Arson</th>\n",
       "      <th>IncidentsOfPropertyCrime</th>\n",
       "    </tr>\n",
       "  </thead>\n",
       "  <tbody>\n",
       "    <tr>\n",
       "      <th>count</th>\n",
       "      <td>3.480000e+02</td>\n",
       "      <td>348.000000</td>\n",
       "      <td>348.000000</td>\n",
       "      <td>348.000000</td>\n",
       "      <td>348.000000</td>\n",
       "      <td>348.000000</td>\n",
       "      <td>348.000000</td>\n",
       "      <td>348.000000</td>\n",
       "      <td>348.000000</td>\n",
       "      <td>348.000000</td>\n",
       "      <td>348.000000</td>\n",
       "      <td>348.000000</td>\n",
       "    </tr>\n",
       "    <tr>\n",
       "      <th>mean</th>\n",
       "      <td>4.003763e+04</td>\n",
       "      <td>201.594828</td>\n",
       "      <td>1.566092</td>\n",
       "      <td>5.864943</td>\n",
       "      <td>72.902299</td>\n",
       "      <td>121.261494</td>\n",
       "      <td>792.606322</td>\n",
       "      <td>119.683908</td>\n",
       "      <td>637.017241</td>\n",
       "      <td>35.905172</td>\n",
       "      <td>1.005747</td>\n",
       "      <td>865.508621</td>\n",
       "    </tr>\n",
       "    <tr>\n",
       "      <th>std</th>\n",
       "      <td>4.500374e+05</td>\n",
       "      <td>2815.268504</td>\n",
       "      <td>18.303673</td>\n",
       "      <td>60.425452</td>\n",
       "      <td>1031.032873</td>\n",
       "      <td>1706.131730</td>\n",
       "      <td>7659.724746</td>\n",
       "      <td>924.948789</td>\n",
       "      <td>6346.054451</td>\n",
       "      <td>403.423826</td>\n",
       "      <td>7.884612</td>\n",
       "      <td>8689.155368</td>\n",
       "    </tr>\n",
       "    <tr>\n",
       "      <th>min</th>\n",
       "      <td>5.260000e+02</td>\n",
       "      <td>0.000000</td>\n",
       "      <td>0.000000</td>\n",
       "      <td>0.000000</td>\n",
       "      <td>0.000000</td>\n",
       "      <td>0.000000</td>\n",
       "      <td>0.000000</td>\n",
       "      <td>0.000000</td>\n",
       "      <td>0.000000</td>\n",
       "      <td>0.000000</td>\n",
       "      <td>0.000000</td>\n",
       "      <td>0.000000</td>\n",
       "    </tr>\n",
       "    <tr>\n",
       "      <th>25%</th>\n",
       "      <td>3.003000e+03</td>\n",
       "      <td>2.000000</td>\n",
       "      <td>0.000000</td>\n",
       "      <td>0.000000</td>\n",
       "      <td>0.000000</td>\n",
       "      <td>1.000000</td>\n",
       "      <td>40.500000</td>\n",
       "      <td>6.000000</td>\n",
       "      <td>31.000000</td>\n",
       "      <td>0.000000</td>\n",
       "      <td>0.000000</td>\n",
       "      <td>40.500000</td>\n",
       "    </tr>\n",
       "    <tr>\n",
       "      <th>50%</th>\n",
       "      <td>7.233500e+03</td>\n",
       "      <td>6.000000</td>\n",
       "      <td>0.000000</td>\n",
       "      <td>0.000000</td>\n",
       "      <td>1.000000</td>\n",
       "      <td>4.000000</td>\n",
       "      <td>112.500000</td>\n",
       "      <td>17.500000</td>\n",
       "      <td>94.000000</td>\n",
       "      <td>2.000000</td>\n",
       "      <td>0.000000</td>\n",
       "      <td>114.500000</td>\n",
       "    </tr>\n",
       "    <tr>\n",
       "      <th>75%</th>\n",
       "      <td>1.842750e+04</td>\n",
       "      <td>22.000000</td>\n",
       "      <td>0.000000</td>\n",
       "      <td>2.000000</td>\n",
       "      <td>5.000000</td>\n",
       "      <td>14.000000</td>\n",
       "      <td>341.000000</td>\n",
       "      <td>51.250000</td>\n",
       "      <td>287.250000</td>\n",
       "      <td>7.000000</td>\n",
       "      <td>0.000000</td>\n",
       "      <td>346.500000</td>\n",
       "    </tr>\n",
       "    <tr>\n",
       "      <th>max</th>\n",
       "      <td>8.396126e+06</td>\n",
       "      <td>52384.000000</td>\n",
       "      <td>335.000000</td>\n",
       "      <td>1112.000000</td>\n",
       "      <td>19170.000000</td>\n",
       "      <td>31767.000000</td>\n",
       "      <td>141971.000000</td>\n",
       "      <td>16606.000000</td>\n",
       "      <td>117931.000000</td>\n",
       "      <td>7434.000000</td>\n",
       "      <td>132.000000</td>\n",
       "      <td>161141.000000</td>\n",
       "    </tr>\n",
       "  </tbody>\n",
       "</table>\n",
       "</div>"
      ],
      "text/plain": [
       "         Population  Violent_Crime      Murder         Rape       Robbery  \\\n",
       "count  3.480000e+02     348.000000  348.000000   348.000000    348.000000   \n",
       "mean   4.003763e+04     201.594828    1.566092     5.864943     72.902299   \n",
       "std    4.500374e+05    2815.268504   18.303673    60.425452   1031.032873   \n",
       "min    5.260000e+02       0.000000    0.000000     0.000000      0.000000   \n",
       "25%    3.003000e+03       2.000000    0.000000     0.000000      0.000000   \n",
       "50%    7.233500e+03       6.000000    0.000000     0.000000      1.000000   \n",
       "75%    1.842750e+04      22.000000    0.000000     2.000000      5.000000   \n",
       "max    8.396126e+06   52384.000000  335.000000  1112.000000  19170.000000   \n",
       "\n",
       "       Aggravated_Assult  Property_Crime      Burglary  Larceny_Theft  \\\n",
       "count         348.000000      348.000000    348.000000     348.000000   \n",
       "mean          121.261494      792.606322    119.683908     637.017241   \n",
       "std          1706.131730     7659.724746    924.948789    6346.054451   \n",
       "min             0.000000        0.000000      0.000000       0.000000   \n",
       "25%             1.000000       40.500000      6.000000      31.000000   \n",
       "50%             4.000000      112.500000     17.500000      94.000000   \n",
       "75%            14.000000      341.000000     51.250000     287.250000   \n",
       "max         31767.000000   141971.000000  16606.000000  117931.000000   \n",
       "\n",
       "       Motor_Vehicle_Theft       Arson  IncidentsOfPropertyCrime  \n",
       "count           348.000000  348.000000                348.000000  \n",
       "mean             35.905172    1.005747                865.508621  \n",
       "std             403.423826    7.884612               8689.155368  \n",
       "min               0.000000    0.000000                  0.000000  \n",
       "25%               0.000000    0.000000                 40.500000  \n",
       "50%               2.000000    0.000000                114.500000  \n",
       "75%               7.000000    0.000000                346.500000  \n",
       "max            7434.000000  132.000000             161141.000000  "
      ]
     },
     "execution_count": 65,
     "metadata": {},
     "output_type": "execute_result"
    }
   ],
   "source": [
    "train_data.describe()"
   ]
  },
  {
   "cell_type": "code",
   "execution_count": 70,
   "metadata": {
    "collapsed": false
   },
   "outputs": [],
   "source": [
    "train_data = train_data.drop(train_data[train_data.Population > 1800000].index)\n",
    "test_data = test_data.drop(test_data[test_data.Population > 1800000].index)"
   ]
  },
  {
   "cell_type": "code",
   "execution_count": 71,
   "metadata": {
    "collapsed": true
   },
   "outputs": [],
   "source": [
    "test_data['IncidentsOfPropertyCrime'] = (test_data.Burglary.astype(int) + test_data.Robbery +\n",
    "    test_data.Larceny_Theft + test_data.Motor_Vehicle_Theft)"
   ]
  },
  {
   "cell_type": "code",
   "execution_count": 72,
   "metadata": {
    "collapsed": false
   },
   "outputs": [
    {
     "name": "stdout",
     "output_type": "stream",
     "text": [
      "\n",
      "Coefficients: \n",
      " [[  1.72009833e-04   1.10117274e+00   1.44884797e+00   9.91695801e-01]]\n",
      "\n",
      "Intercept: \n",
      " [-0.99847814]\n",
      "\n",
      "R-squared:\n",
      "0.9999496577\n"
     ]
    }
   ],
   "source": [
    "regr = linear_model.LinearRegression()\n",
    "Y = train_data['IncidentsOfPropertyCrime'].values.reshape(-1, 1)\n",
    "X = train_data[['Population', 'Burglary','Robbery','Larceny_Theft']]\n",
    "regr.fit(X, Y)\n",
    "\n",
    "print('\\nCoefficients: \\n', regr.coef_)\n",
    "print('\\nIntercept: \\n', regr.intercept_)\n",
    "print('\\nR-squared:')\n",
    "print(regr.score(X, Y))"
   ]
  },
  {
   "cell_type": "code",
   "execution_count": 73,
   "metadata": {
    "collapsed": false
   },
   "outputs": [
    {
     "name": "stdout",
     "output_type": "stream",
     "text": [
      "\n",
      "Coefficients: \n",
      " [[  7.68857994e-05   1.16943252e+00   1.40152997e+00   9.90081927e-01]]\n",
      "\n",
      "Intercept: \n",
      " [-1.30761808]\n",
      "\n",
      "R-squared:\n",
      "0.999928886974\n"
     ]
    }
   ],
   "source": [
    "regr = linear_model.LinearRegression()\n",
    "Y = test_data['IncidentsOfPropertyCrime'].values.reshape(-1, 1)\n",
    "X = test_data[['Population', 'Burglary','Robbery','Larceny_Theft']]\n",
    "regr.fit(X, Y)\n",
    "\n",
    "print('\\nCoefficients: \\n', regr.coef_)\n",
    "print('\\nIntercept: \\n', regr.intercept_)\n",
    "print('\\nR-squared:')\n",
    "print(regr.score(X, Y))"
   ]
  },
  {
   "cell_type": "code",
   "execution_count": null,
   "metadata": {
    "collapsed": true
   },
   "outputs": [],
   "source": []
  }
 ],
 "metadata": {
  "kernelspec": {
   "display_name": "Python 3",
   "language": "python",
   "name": "python3"
  },
  "language_info": {
   "codemirror_mode": {
    "name": "ipython",
    "version": 3
   },
   "file_extension": ".py",
   "mimetype": "text/x-python",
   "name": "python",
   "nbconvert_exporter": "python",
   "pygments_lexer": "ipython3",
   "version": "3.6.0"
  }
 },
 "nbformat": 4,
 "nbformat_minor": 2
}
