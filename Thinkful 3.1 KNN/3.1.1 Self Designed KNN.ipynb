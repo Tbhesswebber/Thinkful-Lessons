{
 "cells": [
  {
   "cell_type": "code",
   "execution_count": 1,
   "metadata": {
    "collapsed": true,
    "deletable": true,
    "editable": true,
    "run_control": {
     "frozen": false,
     "read_only": false
    }
   },
   "outputs": [],
   "source": [
    "import numpy as np\n",
    "import pandas as pd\n",
    "import matplotlib.pyplot as plt\n",
    "import scipy\n",
    "%matplotlib inline"
   ]
  },
  {
   "cell_type": "code",
   "execution_count": 2,
   "metadata": {
    "collapsed": false,
    "deletable": true,
    "editable": true
   },
   "outputs": [],
   "source": [
    "music = pd.DataFrame()\n",
    "\n",
    "# Some data to play with.\n",
    "music['duration'] = [184, 134, 243, 186, 122, 197, 294, 382, 102, 264, \n",
    "                     205, 110, 307, 110, 397, 153, 190, 192, 210, 403,\n",
    "                     164, 198, 204, 253, 234, 190, 182, 401, 376, 102]\n",
    "music['loudness'] = [18, 34, 43, 36, 22, 9, 29, 22, 10, 24, \n",
    "                     20, 10, 17, 51, 7, 13, 19, 12, 21, 22,\n",
    "                     16, 18, 4, 23, 34, 19, 14, 11, 37, 42]\n",
    "\n",
    "# We know whether the songs in our training data are jazz or not.\n",
    "music['jazz'] = [ 1, 0, 0, 0, 1, 1, 0, 1, 1, 0,\n",
    "                  0, 1, 1, 0, 1, 1, 0, 1, 1, 1,\n",
    "                  1, 1, 1, 1, 0, 0, 1, 1, 0, 0]\n",
    "\n"
   ]
  },
  {
   "cell_type": "code",
   "execution_count": 3,
   "metadata": {
    "collapsed": false
   },
   "outputs": [],
   "source": [
    "class KNN:\n",
    "    def __init__(self, nearest_neighbors):\n",
    "            self.neighbors = nearest_neighbors\n",
    "            self.dat = []\n",
    "            self.targ = []\n",
    "            \n",
    "    def fit(self, data, target):\n",
    "        self.dat = data\n",
    "        self.targ = target\n",
    "        \n",
    "    def predict(self, x, y):    \n",
    "        length = []\n",
    "        for row in self.dat.index:\n",
    "            length.append( ((x - self.dat.ix[row][0])**2 + (y - self.dat.ix[row][1])**2)**0.5)\n",
    "        length = pd.DataFrame(length)\n",
    "        length = length.sort_values([0], ascending=[True])\n",
    "        \n",
    "        neighborhood_ix = []\n",
    "        for row in range(self.neighbors):\n",
    "            neighborhood_ix.append(length.iloc[row].name)\n",
    "        \n",
    "        classifcation = []\n",
    "        \n",
    "        for row in neighborhood_ix:\n",
    "            classifcation.append(self.targ[row])\n",
    "        \n",
    "        print('For [{},{}] the classification was {}'.format(x, y, np.median(classifcation)))"
   ]
  },
  {
   "cell_type": "code",
   "execution_count": 4,
   "metadata": {
    "collapsed": false
   },
   "outputs": [
    {
     "data": {
      "text/plain": [
       "KNeighborsClassifier(algorithm='auto', leaf_size=30, metric='minkowski',\n",
       "           metric_params=None, n_jobs=1, n_neighbors=5, p=2,\n",
       "           weights='uniform')"
      ]
     },
     "execution_count": 4,
     "metadata": {},
     "output_type": "execute_result"
    }
   ],
   "source": [
    "test = KNN(5)\n",
    "X = music[['duration','loudness']]\n",
    "Y = music.jazz\n",
    "test.fit(X, Y)\n",
    "\n",
    "from sklearn.neighbors import KNeighborsClassifier\n",
    "baselinetest = KNeighborsClassifier(n_neighbors=5)\n",
    "baselinetest.fit(X,Y)"
   ]
  },
  {
   "cell_type": "code",
   "execution_count": 21,
   "metadata": {
    "collapsed": false
   },
   "outputs": [
    {
     "name": "stdout",
     "output_type": "stream",
     "text": [
      "For [111,44] the classification was 0.0\n",
      "And the the built in KNN prediction of [0]\n",
      "\n",
      "For [67,16] the classification was 1.0\n",
      "And the the built in KNN prediction of [1]\n",
      "\n",
      "For [335,19] the classification was 1.0\n",
      "And the the built in KNN prediction of [1]\n",
      "\n",
      "For [41,13] the classification was 1.0\n",
      "And the the built in KNN prediction of [1]\n",
      "\n",
      "For [343,18] the classification was 1.0\n",
      "And the the built in KNN prediction of [1]\n",
      "\n"
     ]
    }
   ],
   "source": [
    "#test.predict(100, 50)\n",
    "#print (baselinetest.predict([[100, 50]]))\n",
    "\n",
    "\n",
    "from random import randint\n",
    "loudmax = music['loudness'].max()\n",
    "durmax = music['duration'].max()\n",
    "for time in range(5):\n",
    "    test.predict(randint(0,durmax), randint(0,loudmax))\n",
    "    print('And the the built in KNN prediction of {}\\n'.format(baselinetest.predict([[randint(0,durmax), randint(0,loudmax)]])))"
   ]
  }
 ],
 "metadata": {
  "hide_input": false,
  "kernelspec": {
   "display_name": "Python 3",
   "language": "python",
   "name": "python3"
  },
  "language_info": {
   "codemirror_mode": {
    "name": "ipython",
    "version": 3
   },
   "file_extension": ".py",
   "mimetype": "text/x-python",
   "name": "python",
   "nbconvert_exporter": "python",
   "pygments_lexer": "ipython3",
   "version": "3.6.0"
  },
  "toc": {
   "colors": {
    "hover_highlight": "#DAA520",
    "running_highlight": "#FF0000",
    "selected_highlight": "#FFD700"
   },
   "moveMenuLeft": true,
   "nav_menu": {
    "height": "86px",
    "width": "252px"
   },
   "navigate_menu": true,
   "number_sections": true,
   "sideBar": true,
   "threshold": 4,
   "toc_cell": false,
   "toc_section_display": "block",
   "toc_window_display": false
  }
 },
 "nbformat": 4,
 "nbformat_minor": 2
}
