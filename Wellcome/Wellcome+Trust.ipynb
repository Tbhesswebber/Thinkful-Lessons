{
 "cells": [
  {
   "cell_type": "code",
   "execution_count": 69,
   "metadata": {
    "collapsed": false,
    "deletable": true,
    "editable": true
   },
   "outputs": [],
   "source": [
    "import pandas as pd\n",
    "import re\n",
    "import statistics\n",
    "import numpy as np"
   ]
  },
  {
   "cell_type": "code",
   "execution_count": 2,
   "metadata": {
    "collapsed": true,
    "deletable": true,
    "editable": true
   },
   "outputs": [],
   "source": [
    "filename = \"C:\\\\Users\\\\Peter\\\\Desktop\\\\Thinkful\\\\Wellcome\\\\WELLCOME_APCspend2013_forThinkful.csv\""
   ]
  },
  {
   "cell_type": "code",
   "execution_count": 3,
   "metadata": {
    "collapsed": false,
    "deletable": true,
    "editable": true
   },
   "outputs": [],
   "source": [
    "df = pd.read_csv(filename, low_memory = False, encoding = 'iso-8859-1')"
   ]
  },
  {
   "cell_type": "code",
   "execution_count": 4,
   "metadata": {
    "collapsed": false,
    "deletable": true,
    "editable": true
   },
   "outputs": [
    {
     "data": {
      "text/plain": [
       "(2127, 5)"
      ]
     },
     "execution_count": 4,
     "metadata": {},
     "output_type": "execute_result"
    }
   ],
   "source": [
    "df.shape"
   ]
  },
  {
   "cell_type": "code",
   "execution_count": 5,
   "metadata": {
    "collapsed": false
   },
   "outputs": [
    {
     "data": {
      "text/html": [
       "<div>\n",
       "<table border=\"1\" class=\"dataframe\">\n",
       "  <thead>\n",
       "    <tr style=\"text-align: right;\">\n",
       "      <th></th>\n",
       "      <th>PMID/PMCID</th>\n",
       "      <th>Publisher</th>\n",
       "      <th>Journal title</th>\n",
       "      <th>Article title</th>\n",
       "      <th>COST (£) charged to Wellcome (inc VAT when charged)</th>\n",
       "    </tr>\n",
       "  </thead>\n",
       "  <tbody>\n",
       "    <tr>\n",
       "      <th>0</th>\n",
       "      <td>NaN</td>\n",
       "      <td>CUP</td>\n",
       "      <td>Psychological Medicine</td>\n",
       "      <td>Reduced parahippocampal cortical thickness in ...</td>\n",
       "      <td>£0.00</td>\n",
       "    </tr>\n",
       "    <tr>\n",
       "      <th>1</th>\n",
       "      <td>PMC3679557</td>\n",
       "      <td>ACS</td>\n",
       "      <td>Biomacromolecules</td>\n",
       "      <td>Structural characterization of a Model Gram-ne...</td>\n",
       "      <td>£2381.04</td>\n",
       "    </tr>\n",
       "    <tr>\n",
       "      <th>2</th>\n",
       "      <td>23043264  PMC3506128</td>\n",
       "      <td>ACS</td>\n",
       "      <td>J Med Chem</td>\n",
       "      <td>Fumaroylamino-4,5-epoxymorphinans and related ...</td>\n",
       "      <td>£642.56</td>\n",
       "    </tr>\n",
       "    <tr>\n",
       "      <th>3</th>\n",
       "      <td>23438330 PMC3646402</td>\n",
       "      <td>ACS</td>\n",
       "      <td>J Med Chem</td>\n",
       "      <td>Orvinols with mixed kappa/mu opioid receptor a...</td>\n",
       "      <td>£669.64</td>\n",
       "    </tr>\n",
       "    <tr>\n",
       "      <th>4</th>\n",
       "      <td>23438216 PMC3601604</td>\n",
       "      <td>ACS</td>\n",
       "      <td>J Org Chem</td>\n",
       "      <td>Regioselective opening of myo-inositol orthoes...</td>\n",
       "      <td>£685.88</td>\n",
       "    </tr>\n",
       "  </tbody>\n",
       "</table>\n",
       "</div>"
      ],
      "text/plain": [
       "              PMID/PMCID Publisher           Journal title  \\\n",
       "0                    NaN       CUP  Psychological Medicine   \n",
       "1             PMC3679557       ACS       Biomacromolecules   \n",
       "2  23043264  PMC3506128        ACS              J Med Chem   \n",
       "3    23438330 PMC3646402       ACS              J Med Chem   \n",
       "4   23438216 PMC3601604        ACS              J Org Chem   \n",
       "\n",
       "                                       Article title  \\\n",
       "0  Reduced parahippocampal cortical thickness in ...   \n",
       "1  Structural characterization of a Model Gram-ne...   \n",
       "2  Fumaroylamino-4,5-epoxymorphinans and related ...   \n",
       "3  Orvinols with mixed kappa/mu opioid receptor a...   \n",
       "4  Regioselective opening of myo-inositol orthoes...   \n",
       "\n",
       "  COST (£) charged to Wellcome (inc VAT when charged)  \n",
       "0                                              £0.00   \n",
       "1                                           £2381.04   \n",
       "2                                            £642.56   \n",
       "3                                            £669.64   \n",
       "4                                            £685.88   "
      ]
     },
     "execution_count": 5,
     "metadata": {},
     "output_type": "execute_result"
    }
   ],
   "source": [
    "df.head()"
   ]
  },
  {
   "cell_type": "code",
   "execution_count": 6,
   "metadata": {
    "collapsed": false
   },
   "outputs": [
    {
     "data": {
      "text/html": [
       "<div>\n",
       "<table border=\"1\" class=\"dataframe\">\n",
       "  <thead>\n",
       "    <tr style=\"text-align: right;\">\n",
       "      <th></th>\n",
       "      <th>PMID/PMCID</th>\n",
       "      <th>Publisher</th>\n",
       "      <th>Article title</th>\n",
       "      <th>COST (£) charged to Wellcome (inc VAT when charged)</th>\n",
       "    </tr>\n",
       "    <tr>\n",
       "      <th>Journal title</th>\n",
       "      <th></th>\n",
       "      <th></th>\n",
       "      <th></th>\n",
       "      <th></th>\n",
       "    </tr>\n",
       "  </thead>\n",
       "  <tbody>\n",
       "    <tr>\n",
       "      <th>PLoS One</th>\n",
       "      <td>91</td>\n",
       "      <td>92</td>\n",
       "      <td>92</td>\n",
       "      <td>92</td>\n",
       "    </tr>\n",
       "    <tr>\n",
       "      <th>PLoS ONE</th>\n",
       "      <td>62</td>\n",
       "      <td>62</td>\n",
       "      <td>62</td>\n",
       "      <td>62</td>\n",
       "    </tr>\n",
       "    <tr>\n",
       "      <th>Journal of Biological Chemistry</th>\n",
       "      <td>47</td>\n",
       "      <td>48</td>\n",
       "      <td>48</td>\n",
       "      <td>48</td>\n",
       "    </tr>\n",
       "    <tr>\n",
       "      <th>Nucleic Acids Research</th>\n",
       "      <td>20</td>\n",
       "      <td>21</td>\n",
       "      <td>21</td>\n",
       "      <td>21</td>\n",
       "    </tr>\n",
       "    <tr>\n",
       "      <th>Proceedings of the National Academy of Sciences</th>\n",
       "      <td>19</td>\n",
       "      <td>19</td>\n",
       "      <td>19</td>\n",
       "      <td>19</td>\n",
       "    </tr>\n",
       "  </tbody>\n",
       "</table>\n",
       "</div>"
      ],
      "text/plain": [
       "                                                 PMID/PMCID  Publisher  \\\n",
       "Journal title                                                            \n",
       "PLoS One                                                 91         92   \n",
       "PLoS ONE                                                 62         62   \n",
       "Journal of Biological Chemistry                          47         48   \n",
       "Nucleic Acids Research                                   20         21   \n",
       "Proceedings of the National Academy of Sciences          19         19   \n",
       "\n",
       "                                                 Article title  \\\n",
       "Journal title                                                    \n",
       "PLoS One                                                    92   \n",
       "PLoS ONE                                                    62   \n",
       "Journal of Biological Chemistry                             48   \n",
       "Nucleic Acids Research                                      21   \n",
       "Proceedings of the National Academy of Sciences             19   \n",
       "\n",
       "                                                 COST (£) charged to Wellcome (inc VAT when charged)  \n",
       "Journal title                                                                                         \n",
       "PLoS One                                                                                        92    \n",
       "PLoS ONE                                                                                        62    \n",
       "Journal of Biological Chemistry                                                                 48    \n",
       "Nucleic Acids Research                                                                          21    \n",
       "Proceedings of the National Academy of Sciences                                                 19    "
      ]
     },
     "execution_count": 6,
     "metadata": {},
     "output_type": "execute_result"
    }
   ],
   "source": [
    "precheck = df.groupby('Journal title').count()\n",
    "precheck = precheck.sort_values(['Article title'], ascending = False)\n",
    "precheck.head()"
   ]
  },
  {
   "cell_type": "code",
   "execution_count": 48,
   "metadata": {
    "collapsed": false,
    "deletable": true,
    "editable": true
   },
   "outputs": [
    {
     "name": "stdout",
     "output_type": "stream",
     "text": [
      "There are 840 unique Journals in source after parsing\n"
     ]
    }
   ],
   "source": [
    "\n",
    "\n",
    "source = df[['Journal title', 'COST (£) charged to Wellcome (inc VAT when charged)']]\n",
    "\n",
    "#simplfy the column headers\n",
    "source = source.rename(columns = {'COST (£) charged to Wellcome (inc VAT when charged)':'Cost'})\n",
    "source = source.rename(columns = {'Journal title':'Journal'})\n",
    "\n",
    "#make a new column to store the simplified journal names\n",
    "source['Parsed'] = source['Journal']\n",
    "\n",
    "#remove common text that could cause duplicates\n",
    "source['Parsed'] = source['Parsed'].str.strip()\n",
    "source['Parsed'] = source['Parsed'].str.lower()\n",
    "source['Parsed'] = source['Parsed'].str.replace(':','')\n",
    "source['Parsed'] = source['Parsed'].str.replace('&','and')\n",
    "source['Parsed'] = source['Parsed'].str.replace(',','')\n",
    "source['Cost'] = source['Cost'].str.strip('$')\n",
    "source['Cost'] = source['Cost'].str.strip('£').astype(float)\n",
    "source = source[source.Cost < 4000.00]\n",
    "\n",
    "#correct spelling errors\n",
    "source['Parsed'] = source['Parsed'].str.replace('antimicobial','antimicrobial')\n",
    "source['Parsed'] = source['Parsed'].str.replace('agfents','agents')\n",
    "source['Parsed'] = source['Parsed'].str.replace('angewande','angewandte')\n",
    "source['Parsed'] = source['Parsed'].str.replace('behaviour','behavior')  \n",
    "source['Parsed'] = source['Parsed'].str.replace('ophthalmology','opthalmology')  \n",
    "source['Parsed'] = source['Parsed'].str.replace('jnl','journal') \n",
    "source['Parsed'] = source['Parsed'].str.replace('of','') \n",
    "source['Parsed'] = source['Parsed'].str.replace('.','') \n",
    "source['Parsed'] = source['Parsed'].str.replace('neuropathol','neuropathologica') \n",
    "source['Parsed'] = source['Parsed'].str.replace('neuropathologicaogica','neuropathologica') \n",
    "source['Parsed'] = source['Parsed'].str.replace('biinformatics','bionformatics') \n",
    "source['Parsed'] = source['Parsed'].str.replace('journals','journal') \n",
    "source['Parsed'] = source['Parsed'].str.replace('eur j immunol','european journal immunology') \n",
    "source['Parsed'] = source['Parsed'].str.replace('european child and adolescent psychiatty','european child and adolescent psychiatry') \n",
    "source['Parsed'] = source['Parsed'].str.replace('genetic epidemology','genetic epidemiology') \n",
    "source['Parsed'] = source['Parsed'].str.replace('haematologica/the haematology journal','haematologica') \n",
    "source['Parsed'] = source['Parsed'].str.replace('heptology','hepatology') \n",
    "\n",
    "#remove text that references subsections of journals\n",
    "source['Parsed'] = source['Parsed'].str.replace('embo journal','embo') \n",
    "source['Parsed'] = source['Parsed'].str.replace('embo reports','embo') \n",
    "source['Parsed'] = source['Parsed'].str.replace('embo molecular medicine','embo') \n",
    "\n",
    "source['Parsed'] = source['Parsed'].str.partition('part')\n",
    "source['Parsed'] = source['Parsed'].str.partition('section')\n",
    "source['Parsed'] = source['Parsed'].str.partition('online')\n",
    "\n",
    "print(\"There are {} unique Journals in source after parsing\".format(source['Parsed'].nunique()))"
   ]
  },
  {
   "cell_type": "code",
   "execution_count": 67,
   "metadata": {
    "collapsed": false
   },
   "outputs": [
    {
     "data": {
      "text/html": [
       "<div>\n",
       "<table border=\"1\" class=\"dataframe\">\n",
       "  <thead>\n",
       "    <tr style=\"text-align: right;\">\n",
       "      <th></th>\n",
       "      <th>Journal</th>\n",
       "      <th>Cost</th>\n",
       "      <th>Parsed</th>\n",
       "    </tr>\n",
       "  </thead>\n",
       "  <tbody>\n",
       "    <tr>\n",
       "      <th>0</th>\n",
       "      <td>Psychological Medicine</td>\n",
       "      <td>0.00</td>\n",
       "      <td>psychological medicine</td>\n",
       "    </tr>\n",
       "    <tr>\n",
       "      <th>1</th>\n",
       "      <td>Biomacromolecules</td>\n",
       "      <td>2381.04</td>\n",
       "      <td>biomacromolecules</td>\n",
       "    </tr>\n",
       "    <tr>\n",
       "      <th>2</th>\n",
       "      <td>J Med Chem</td>\n",
       "      <td>642.56</td>\n",
       "      <td>j med chem</td>\n",
       "    </tr>\n",
       "    <tr>\n",
       "      <th>3</th>\n",
       "      <td>J Med Chem</td>\n",
       "      <td>669.64</td>\n",
       "      <td>j med chem</td>\n",
       "    </tr>\n",
       "    <tr>\n",
       "      <th>4</th>\n",
       "      <td>J Org Chem</td>\n",
       "      <td>685.88</td>\n",
       "      <td>j org chem</td>\n",
       "    </tr>\n",
       "  </tbody>\n",
       "</table>\n",
       "</div>"
      ],
      "text/plain": [
       "                  Journal     Cost                  Parsed\n",
       "0  Psychological Medicine     0.00  psychological medicine\n",
       "1       Biomacromolecules  2381.04       biomacromolecules\n",
       "2              J Med Chem   642.56              j med chem\n",
       "3              J Med Chem   669.64              j med chem\n",
       "4              J Org Chem   685.88              j org chem"
      ]
     },
     "execution_count": 67,
     "metadata": {},
     "output_type": "execute_result"
    }
   ],
   "source": [
    "source.head()"
   ]
  },
  {
   "cell_type": "code",
   "execution_count": 49,
   "metadata": {
    "collapsed": false,
    "deletable": true,
    "editable": true,
    "scrolled": false
   },
   "outputs": [],
   "source": [
    "testingphrase = 'h'\n",
    "testing = pd.DataFrame()\n",
    "testing['Title'] = source['Parsed'].unique()\n",
    "testing = testing.sort_values(['Title'], ascending=[True])\n",
    "#testing.loc[(testing['Title'].astype(str).str.startswith(testingphrase))]"
   ]
  },
  {
   "cell_type": "code",
   "execution_count": 50,
   "metadata": {
    "collapsed": false,
    "scrolled": false
   },
   "outputs": [],
   "source": [
    "checktopjournals = source.groupby('Parsed').count()\n",
    "checktopjournals = checktopjournals.sort_values(['Journal'], ascending = False)\n",
    "top5 = checktopjournals.head().index.tolist()"
   ]
  },
  {
   "cell_type": "code",
   "execution_count": 51,
   "metadata": {
    "collapsed": false
   },
   "outputs": [],
   "source": [
    "def findmodes (data):\n",
    "    (values, counts) = np.unique(data, return_counts=True)\n",
    "    ind = np.argmax(counts)\n",
    "    modes=[values[ind]]\n",
    "    countofmode = counts[ind]\n",
    "    counts = np.delete(counts, ind)\n",
    "    values = np.delete(values, ind)\n",
    "    ind = np.argmax(counts)\n",
    "    if countofmode == counts[ind]:\n",
    "        modes.append(values[ind])\n",
    "    return modes"
   ]
  },
  {
   "cell_type": "code",
   "execution_count": 62,
   "metadata": {
    "collapsed": false
   },
   "outputs": [],
   "source": [
    "def findvalues(data, dataname):\n",
    "    print('The MODE of the cost of a', dataname,' article are', ' and '.join(str(e) for e in (findmodes(data))))\n",
    "    print('The MEAN of the cost of a', dataname,' article is',data.mean())\n",
    "    print('The STANDARD DEVIATION of the cost of a', dataname, ' article is', data.std(ddof=1))"
   ]
  },
  {
   "cell_type": "code",
   "execution_count": 63,
   "metadata": {
    "collapsed": false
   },
   "outputs": [],
   "source": [
    "def runentries (listtorun):\n",
    "    for e in listtorun:\n",
    "        current_j = source[source['Parsed']==e]\n",
    "        print('Here is the information requested for', e.upper(), 'with ', len(current_j.index), 'articles')\n",
    "        findvalues(current_j['Cost'], e)\n",
    "        print('')"
   ]
  },
  {
   "cell_type": "code",
   "execution_count": 64,
   "metadata": {
    "collapsed": false
   },
   "outputs": [
    {
     "name": "stdout",
     "output_type": "stream",
     "text": [
      "Here is the information requested for PLOS ONE with  182 articles\n",
      "The MODE of the cost of a plos one  article are 825.68\n",
      "The MEAN of the cost of a plos one  article is 934.655824176\n",
      "The STANDARD DEVIATION of the cost of a plos one  article is 201.847588733\n",
      "\n",
      "Here is the information requested for JOURNAL  BIOLOGICAL CHEMISTRY with  52 articles\n",
      "The MODE of the cost of a journal  biological chemistry  article are 1276.08 and 1556.61\n",
      "The MEAN of the cost of a journal  biological chemistry  article is 1423.58846154\n",
      "The STANDARD DEVIATION of the cost of a journal  biological chemistry  article is 411.954359938\n",
      "\n",
      "Here is the information requested for NEUROIMAGE with  29 articles\n",
      "The MODE of the cost of a neuroimage  article are 1762.69 and 2503.34\n",
      "The MEAN of the cost of a neuroimage  article is 2215.16827586\n",
      "The STANDARD DEVIATION of the cost of a neuroimage  article is 266.653946919\n",
      "\n",
      "Here is the information requested for NUCLEIC ACIDS RESEARCH with  26 articles\n",
      "The MODE of the cost of a nucleic acids research  article are 852.0\n",
      "The MEAN of the cost of a nucleic acids research  article is 1149.0\n",
      "The STANDARD DEVIATION of the cost of a nucleic acids research  article is 442.940447464\n",
      "\n",
      "Here is the information requested for PLOS GENETICS with  22 articles\n",
      "The MODE of the cost of a plos genetics  article are 1456.19 and 1807.6\n",
      "The MEAN of the cost of a plos genetics  article is 1643.11090909\n",
      "The STANDARD DEVIATION of the cost of a plos genetics  article is 153.366825335\n",
      "\n"
     ]
    }
   ],
   "source": [
    "runentries(top5)"
   ]
  },
  {
   "cell_type": "code",
   "execution_count": null,
   "metadata": {
    "collapsed": true
   },
   "outputs": [],
   "source": []
  }
 ],
 "metadata": {
  "kernelspec": {
   "display_name": "Python 3",
   "language": "python",
   "name": "python3"
  },
  "language_info": {
   "codemirror_mode": {
    "name": "ipython",
    "version": 3
   },
   "file_extension": ".py",
   "mimetype": "text/x-python",
   "name": "python",
   "nbconvert_exporter": "python",
   "pygments_lexer": "ipython3",
   "version": "3.6.0"
  }
 },
 "nbformat": 4,
 "nbformat_minor": 2
}
