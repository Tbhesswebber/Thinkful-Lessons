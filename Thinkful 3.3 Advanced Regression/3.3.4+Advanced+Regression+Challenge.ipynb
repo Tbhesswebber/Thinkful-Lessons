{
 "cells": [
  {
   "cell_type": "code",
   "execution_count": 144,
   "metadata": {
    "collapsed": false
   },
   "outputs": [],
   "source": [
    "import pandas as pd\n",
    "import numpy as np\n",
    "import matplotlib.pyplot as plt"
   ]
  },
  {
   "cell_type": "code",
   "execution_count": 177,
   "metadata": {
    "collapsed": false
   },
   "outputs": [],
   "source": [
    "path = 'C:\\\\Users\\\\Peter\\Desktop\\\\Thinkful\\\\Thinkful-Lessons\\\\Thinkful 3.3 Advanced Regression\\\\Table_8_Offenses_Known_to_Law_Enforcement_by_State_by_City_2013.xls'\n",
    "df = pd.read_excel(path, header = 3, skip_footer = 10)"
   ]
  },
  {
   "cell_type": "code",
   "execution_count": 178,
   "metadata": {
    "collapsed": false
   },
   "outputs": [],
   "source": [
    "cols = list(df.loc[:,'City':'Arson3'])\n",
    "df = df[cols]\n",
    "df.columns = ['City', 'Population', 'Violent_Crime',\n",
    "       'Murder_manslaughter',\n",
    "       'Rape1', 'Rape2',\n",
    "       'Robbery', 'Agg_ass', 'Property_Crime', 'Burglary',\n",
    "       'Larceny_Theft', 'Motor_Theft', 'Arson3']"
   ]
  },
  {
   "cell_type": "code",
   "execution_count": 179,
   "metadata": {
    "collapsed": false
   },
   "outputs": [
    {
     "data": {
      "text/plain": [
       "City                    0.000000\n",
       "Population              0.032286\n",
       "Violent_Crime           0.043048\n",
       "Murder_manslaughter     0.000000\n",
       "Rape1                  41.551873\n",
       "Rape2                  58.469651\n",
       "Robbery                 0.000000\n",
       "Agg_ass                 0.032286\n",
       "Property_Crime          0.043048\n",
       "Burglary                0.021524\n",
       "Larceny_Theft           0.021524\n",
       "Motor_Theft             0.000000\n",
       "Arson3                  5.090400\n",
       "dtype: float64"
      ]
     },
     "execution_count": 179,
     "metadata": {},
     "output_type": "execute_result"
    }
   ],
   "source": [
    "(df.isnull().sum()/len(df))*100"
   ]
  },
  {
   "cell_type": "code",
   "execution_count": 180,
   "metadata": {
    "collapsed": false
   },
   "outputs": [
    {
     "data": {
      "text/plain": [
       "0.0"
      ]
     },
     "execution_count": 180,
     "metadata": {},
     "output_type": "execute_result"
    }
   ],
   "source": [
    "df.dropna().shape[0]/df.shape[0]"
   ]
  },
  {
   "cell_type": "code",
   "execution_count": 181,
   "metadata": {
    "collapsed": false
   },
   "outputs": [],
   "source": [
    "if 'Rape1' in df.columns:df[\"Rape\"] = df[\"Rape1\"].fillna(df[\"Rape2\"])\n",
    "if 'Rape1' in df.columns: del df['Rape1']\n",
    "if 'Rape2' in df.columns: del df['Rape2']"
   ]
  },
  {
   "cell_type": "code",
   "execution_count": 182,
   "metadata": {
    "collapsed": false
   },
   "outputs": [],
   "source": [
    "df['Arson3'] = df['Arson3'].fillna(0.0)"
   ]
  },
  {
   "cell_type": "code",
   "execution_count": 183,
   "metadata": {
    "collapsed": false
   },
   "outputs": [],
   "source": [
    "df = df.dropna()"
   ]
  },
  {
   "cell_type": "code",
   "execution_count": 184,
   "metadata": {
    "collapsed": false
   },
   "outputs": [
    {
     "data": {
      "text/plain": [
       "City                   0.0\n",
       "Population             0.0\n",
       "Violent_Crime          0.0\n",
       "Murder_manslaughter    0.0\n",
       "Robbery                0.0\n",
       "Agg_ass                0.0\n",
       "Property_Crime         0.0\n",
       "Burglary               0.0\n",
       "Larceny_Theft          0.0\n",
       "Motor_Theft            0.0\n",
       "Arson3                 0.0\n",
       "Rape                   0.0\n",
       "dtype: float64"
      ]
     },
     "execution_count": 184,
     "metadata": {},
     "output_type": "execute_result"
    }
   ],
   "source": [
    "(df.isnull().sum()/len(df))*100"
   ]
  },
  {
   "cell_type": "code",
   "execution_count": 185,
   "metadata": {
    "collapsed": true
   },
   "outputs": [],
   "source": [
    "crimedata = list(df.loc[:,'Violent_Crime':'Arson3'])"
   ]
  },
  {
   "cell_type": "code",
   "execution_count": 186,
   "metadata": {
    "collapsed": false
   },
   "outputs": [],
   "source": [
    "df['Total_crimes'] = df[crimedata].sum(axis = 1)"
   ]
  },
  {
   "cell_type": "code",
   "execution_count": 187,
   "metadata": {
    "collapsed": false
   },
   "outputs": [],
   "source": [
    "df['Crime_per_capita']= df['Total_crimes']/df['Population']"
   ]
  },
  {
   "cell_type": "code",
   "execution_count": 188,
   "metadata": {
    "collapsed": false
   },
   "outputs": [
    {
     "data": {
      "text/plain": [
       "980"
      ]
     },
     "execution_count": 188,
     "metadata": {},
     "output_type": "execute_result"
    }
   ],
   "source": [
    "df['Crime_per_capita'].argmax()"
   ]
  },
  {
   "cell_type": "code",
   "execution_count": 189,
   "metadata": {
    "collapsed": false
   },
   "outputs": [
    {
     "data": {
      "image/png": "[encoded data removed]",
      "text/plain": [
       "<matplotlib.figure.Figure at 0x21c6cda2eb8>"
      ]
     },
     "metadata": {},
     "output_type": "display_data"
    }
   ],
   "source": [
    "plt.boxplot(df['Crime_per_capita'])\n",
    "plt.show()"
   ]
  },
  {
   "cell_type": "code",
   "execution_count": 190,
   "metadata": {
    "collapsed": false
   },
   "outputs": [
    {
     "data": {
      "text/plain": [
       "City                   Lakeside\n",
       "Population                    8\n",
       "Violent_Crime                 5\n",
       "Murder_manslaughter           0\n",
       "Robbery                       3\n",
       "Agg_ass                       2\n",
       "Property_Crime              548\n",
       "Burglary                      0\n",
       "Larceny_Theft               548\n",
       "Motor_Theft                   0\n",
       "Arson3                        0\n",
       "Rape                          0\n",
       "Total_crimes               1106\n",
       "Crime_per_capita         138.25\n",
       "Name: 980, dtype: object"
      ]
     },
     "execution_count": 190,
     "metadata": {},
     "output_type": "execute_result"
    }
   ],
   "source": [
    "df.ix[df['Crime_per_capita'].argmax()]"
   ]
  },
  {
   "cell_type": "code",
   "execution_count": 191,
   "metadata": {
    "collapsed": false
   },
   "outputs": [],
   "source": [
    "#Lakeside looks like bad data, population of 8 with 138 crimes, we should do away with that\n",
    "df.drop(980, inplace = True)"
   ]
  },
  {
   "cell_type": "code",
   "execution_count": 192,
   "metadata": {
    "collapsed": false
   },
   "outputs": [
    {
     "data": {
      "image/png": "[encoded data removed]",
      "text/plain": [
       "<matplotlib.figure.Figure at 0x21c6cababe0>"
      ]
     },
     "metadata": {},
     "output_type": "display_data"
    }
   ],
   "source": [
    "plt.boxplot(df['Crime_per_capita'])\n",
    "plt.show()"
   ]
  },
  {
   "cell_type": "code",
   "execution_count": 206,
   "metadata": {
    "collapsed": false
   },
   "outputs": [
    {
     "data": {
      "text/plain": [
       "5"
      ]
     },
     "execution_count": 206,
     "metadata": {},
     "output_type": "execute_result"
    }
   ],
   "source": [
    "#Still looks off, lets see how many cities have a crime per capita greater than 1\n",
    "df[df['Crime_per_capita']>1].Crime_per_capita.count()"
   ]
  },
  {
   "cell_type": "code",
   "execution_count": 207,
   "metadata": {
    "collapsed": false
   },
   "outputs": [
    {
     "data": {
      "text/plain": [
       "Int64Index([627, 870, 909, 2183, 3526], dtype='int64')"
      ]
     },
     "execution_count": 207,
     "metadata": {},
     "output_type": "execute_result"
    }
   ],
   "source": [
    "df[df['Crime_per_capita']>1].index"
   ]
  },
  {
   "cell_type": "code",
   "execution_count": 209,
   "metadata": {
    "collapsed": false
   },
   "outputs": [],
   "source": [
    "df = df.drop([627, 870, 909, 2183, 3526])"
   ]
  },
  {
   "cell_type": "code",
   "execution_count": 210,
   "metadata": {
    "collapsed": false
   },
   "outputs": [
    {
     "data": {
      "image/png": "[encoded data removed]",
      "text/plain": [
       "<matplotlib.figure.Figure at 0x21c6d1f8cf8>"
      ]
     },
     "metadata": {},
     "output_type": "display_data"
    }
   ],
   "source": [
    "plt.boxplot(df['Crime_per_capita'])\n",
    "plt.show()"
   ]
  },
  {
   "cell_type": "code",
   "execution_count": 211,
   "metadata": {
    "collapsed": false
   },
   "outputs": [
    {
     "data": {
      "text/plain": [
       "count    9275.000000\n",
       "mean        0.055357\n",
       "std         0.048109\n",
       "min         0.000000\n",
       "25%         0.024772\n",
       "50%         0.044111\n",
       "75%         0.072723\n",
       "max         0.850202\n",
       "Name: Crime_per_capita, dtype: float64"
      ]
     },
     "execution_count": 211,
     "metadata": {},
     "output_type": "execute_result"
    }
   ],
   "source": [
    "df['Crime_per_capita'].describe()"
   ]
  },
  {
   "cell_type": "code",
   "execution_count": 215,
   "metadata": {
    "collapsed": false
   },
   "outputs": [
    {
     "data": {
      "text/plain": [
       "0.017574123989218329"
      ]
     },
     "execution_count": 215,
     "metadata": {},
     "output_type": "execute_result"
    }
   ],
   "source": [
    "#Seems almost 2% of the cities in our database have no reported crime.  I'd like to live in one of those cities\n",
    "df[df['Crime_per_capita']==0].Crime_per_capita.count()/len(df)"
   ]
  },
  {
   "cell_type": "code",
   "execution_count": 217,
   "metadata": {
    "collapsed": true
   },
   "outputs": [],
   "source": [
    "#OK, so lets make a target variable.  Lets say that cities with per capita crime rate less than 0.024772 are 'Safe Cities', top25%\n",
    "df['Safe_City'] = np.where(df['Crime_per_capita']<=0.024772, 1, 0)"
   ]
  },
  {
   "cell_type": "code",
   "execution_count": 234,
   "metadata": {
    "collapsed": false
   },
   "outputs": [],
   "source": [
    "from sklearn.model_selection import train_test_split\n",
    "y = df['Safe_City']\n",
    "X = df[crimedata]\n",
    "\n",
    "X_train, X_test, y_train, y_test = train_test_split(X, y, test_size=0.50)"
   ]
  },
  {
   "cell_type": "code",
   "execution_count": 256,
   "metadata": {
    "collapsed": false
   },
   "outputs": [
    {
     "name": "stdout",
     "output_type": "stream",
     "text": [
      "Coefficients\n",
      "   Violent_Crime  Murder_manslaughter   Robbery   Agg_ass  Property_Crime  \\\n",
      "0       0.013258             0.012683  0.001086 -0.097657       -0.009037   \n",
      "\n",
      "   Burglary  Larceny_Theft  Motor_Theft   Arson3  \n",
      "0 -0.006469        0.00408    -0.006648  0.07914  \n",
      "\n",
      "Intercept:[ 0.28250173]\n",
      "\n",
      " Percentage accuracy training set\n",
      "0.828984257063\n",
      "\n",
      " Percentage accuracy testing set\n",
      "0.825786977145\n",
      "\n",
      " Accuracy City Safety on Test Set\n",
      "Safe_City     0    1\n",
      "row_0               \n",
      "0          3238  586\n",
      "1           222  592\n"
     ]
    }
   ],
   "source": [
    "from sklearn.linear_model import LogisticRegression\n",
    "lr = LogisticRegression(C=1e9)\n",
    "fit = lr.fit(X_train, y_train)\n",
    "\n",
    "print('Coefficients')\n",
    "print(pd.DataFrame(fit.coef_, columns=crimedata))\n",
    "print('\\nIntercept:{}'.format(fit.intercept_))\n",
    "\n",
    "\n",
    "print('\\n Percentage accuracy training set')\n",
    "print(lr.score(X_train, y_train))\n",
    "\n",
    "print('\\n Percentage accuracy testing set')\n",
    "print(lr.score(X_test, y_test))\n",
    "\n",
    "pred_y_sklearn = lr.predict(X_test)\n",
    "print('\\n Accuracy City Safety on Test Set')\n",
    "print(pd.crosstab(pred_y_sklearn, y_test))"
   ]
  },
  {
   "cell_type": "code",
   "execution_count": 254,
   "metadata": {
    "collapsed": false
   },
   "outputs": [
    {
     "name": "stdout",
     "output_type": "stream",
     "text": [
      "Coefficients\n",
      "   Violent_Crime  Murder_manslaughter  Robbery   Agg_ass  Property_Crime  \\\n",
      "0       0.004296             0.017491  0.01161 -0.088351       -0.000726   \n",
      "\n",
      "   Burglary  Larceny_Theft  Motor_Theft    Arson3  \n",
      "0 -0.014547      -0.004161    -0.015994  0.080809  \n",
      "\n",
      "Intercept:[ 0.28130361]\n",
      "\n",
      " Percentage accuracy training set\n",
      "0.829846883761\n",
      "\n",
      " Percentage accuracy testing set\n",
      "0.825140146615\n",
      "\n",
      " Accuracy City Safety on Test Set\n",
      "Safe_City     0    1\n",
      "row_0               \n",
      "0          3240  591\n",
      "1           220  587\n"
     ]
    }
   ],
   "source": [
    "lrlasso = LogisticRegression(penalty ='l1')\n",
    "fit = lrlasso.fit(X_train, y_train)\n",
    "\n",
    "print('Coefficients')\n",
    "print(pd.DataFrame(fit.coef_, columns=crimedata))\n",
    "print('\\nIntercept:{}'.format(fit.intercept_))\n",
    "\n",
    "\n",
    "print('\\n Percentage accuracy training set')\n",
    "print(lrlasso.score(X_train, y_train))\n",
    "\n",
    "print('\\n Percentage accuracy testing set')\n",
    "print(lrlasso.score(X_test, y_test))\n",
    "\n",
    "pred_y_sklearn = lrlasso.predict(X_test)\n",
    "print('\\n Accuracy City Safety on Test Set')\n",
    "print(pd.crosstab(pred_y_sklearn, y_test))"
   ]
  },
  {
   "cell_type": "code",
   "execution_count": 255,
   "metadata": {
    "collapsed": false
   },
   "outputs": [
    {
     "name": "stdout",
     "output_type": "stream",
     "text": [
      "Coefficients\n",
      "   Violent_Crime  Murder_manslaughter   Robbery   Agg_ass  Property_Crime  \\\n",
      "0       0.013099             0.012748  0.001667 -0.098067       -0.009204   \n",
      "\n",
      "   Burglary  Larceny_Theft  Motor_Theft    Arson3  \n",
      "0 -0.006112       0.004279    -0.007371  0.079114  \n",
      "\n",
      "Intercept:[ 0.28162767]\n",
      "\n",
      " Percentage accuracy training set\n",
      "0.829199913737\n",
      "\n",
      " Percentage accuracy testing set\n",
      "0.824924536438\n",
      "\n",
      " Accuracy City Safety on Test Set\n",
      "Safe_City     0    1\n",
      "row_0               \n",
      "0          3237  589\n",
      "1           223  589\n"
     ]
    }
   ],
   "source": [
    "lrridge = LogisticRegression(penalty ='l2')\n",
    "fit = lrridge.fit(X_train, y_train)\n",
    "\n",
    "print('Coefficients')\n",
    "print(pd.DataFrame(fit.coef_, columns=crimedata))\n",
    "print('\\nIntercept:{}'.format(fit.intercept_))\n",
    "\n",
    "\n",
    "print('\\n Percentage accuracy training set')\n",
    "print(lrridge.score(X_train, y_train))\n",
    "\n",
    "print('\\n Percentage accuracy testing set')\n",
    "print(lrridge.score(X_test, y_test))\n",
    "\n",
    "pred_y_sklearn = lrridge.predict(X_test)\n",
    "print('\\n Accuracy City Safety on Test Set')\n",
    "print(pd.crosstab(pred_y_sklearn, y_test))"
   ]
  },
  {
   "cell_type": "code",
   "execution_count": null,
   "metadata": {
    "collapsed": true
   },
   "outputs": [],
   "source": []
  }
 ],
 "metadata": {
  "kernelspec": {
   "display_name": "Python 3",
   "language": "python",
   "name": "python3"
  },
  "language_info": {
   "codemirror_mode": {
    "name": "ipython",
    "version": 3
   },
   "file_extension": ".py",
   "mimetype": "text/x-python",
   "name": "python",
   "nbconvert_exporter": "python",
   "pygments_lexer": "ipython3",
   "version": "3.6.0"
  }
 },
 "nbformat": 4,
 "nbformat_minor": 2
}
