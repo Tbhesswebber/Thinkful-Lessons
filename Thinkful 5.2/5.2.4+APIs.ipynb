{
 "cells": [
  {
   "cell_type": "markdown",
   "metadata": {},
   "source": [
    "# Challenge\n",
    "\n",
    "Do a little scraping or API-calling of your own.  Pick a new website and see what you can get out of it.  Expect that you'll run into bugs and blind alleys, and rely on your mentor to help you get through.  \n",
    "\n",
    "Formally, your goal is to write a scraper that will:\n",
    "\n",
    "1) Return specific pieces of information (rather than just downloading a whole page)  \n",
    "2) Iterate over multiple pages/queries  \n",
    "3) Save the data to your computer  \n",
    "\n",
    "Once you have your data, compute some statistical summaries and/or visualizations that give you some new insights into your scraping topic of interest.  Write up a report from scraping code to summary and share it with your mentor."
   ]
  },
  {
   "cell_type": "code",
   "execution_count": 1,
   "metadata": {
    "scrolled": false
   },
   "outputs": [],
   "source": [
    "import sys\n",
    "from scrapy.spiders import Spider\n",
    "from scrapy.selector import Selector\n",
    "from scrapy.crawler import CrawlerProcess\n",
    "import pandas as pd\n",
    "import re\n",
    "import matplotlib.pyplot as plt\n",
    "\n",
    "class YelpSpider(Spider):\n",
    "    name = \"yelp\"\n",
    "    allowed_domains = [\"yelp.com\"]\n",
    "    start_urls = [\"http://www.yelp.com/search?find_desc=Chinese&find_loc=MI&start=0\"]\n",
    "    for i in range(1,64):\n",
    "            start_urls.append(\"http://www.yelp.com/search?find_desc=Chinese&find_loc=MI&start=\"+str(i*10))\n",
    "\n",
    "    names = []\n",
    "    raiting = []\n",
    "    cost = []\n",
    "    rewiew_counts = []\n",
    "    catigories = []\n",
    "    \n",
    "    def parse(self, response):\n",
    "        listings = response.xpath(\"//li[@class='regular-search-result']\")\n",
    "        for results in listings:\n",
    "            yield{\n",
    "            'raw_name' : results.xpath(\".//span[@class='indexed-biz-name']/a//text()\").extract_first(),\n",
    "            'stars' : results.xpath(\".//div[contains(@class,'rating-large')]//@title\").extract_first(),\n",
    "            'price' : results.xpath(\".//span[contains(@class,'price-range')]//text()\").extract_first(),\n",
    "            'raw_review_count' : results.xpath(\".//span[contains(@class,'review-count')]//text()\").extract_first(),\n",
    "            'category_list' : results.xpath(\".//span[contains(@class,'category-str-list')]//a//text()\").extract()    \n",
    "            }\n",
    "    \n",
    "process = CrawlerProcess({\n",
    "    'FEED_FORMAT': 'json',\n",
    "    'FEED_URI': 'Yelp2.json',\n",
    "    # Note that because we are doing API queries, the robots.txt file doesn't apply to us.\n",
    "    'ROBOTSTXT_OBEY': False,\n",
    "    'USER_AGENT': 'ThinkfulDataScienceBootcampCrawler (thinkful.com)',\n",
    "    'AUTOTHROTTLE_ENABLED': True,\n",
    "    'HTTPCACHE_ENABLED': True,\n",
    "    'LOG_ENABLED': False,\n",
    "    # We use CLOSESPIDER_PAGECOUNT to limit our scraper to the first 100 links.    \n",
    "    'CLOSESPIDER_PAGECOUNT' : 64\n",
    "})                \n",
    "\n",
    "# Starting the crawler with our spider.\n",
    "process.crawl(YelpSpider)\n",
    "process.start()"
   ]
  },
  {
   "cell_type": "code",
   "execution_count": 132,
   "metadata": {
    "scrolled": false
   },
   "outputs": [],
   "source": [
    "Yelpdata=pd.read_json('Yelp2.json', orient='records')"
   ]
  },
  {
   "cell_type": "code",
   "execution_count": 133,
   "metadata": {},
   "outputs": [],
   "source": [
    "Yelpdata.price = Yelpdata.price.apply(lambda x : len(str(x)) )\n",
    "\n",
    "Yelpdata.stars = Yelpdata.stars.apply(lambda x : str(x)[:3])\n",
    "Yelpdata.stars = Yelpdata.stars.apply(lambda x : float(x.replace('Non', '0')))\n",
    "\n",
    "Yelpdata.raw_review_count = Yelpdata.raw_review_count.apply(lambda x : re.findall('\\d+', str(x)))\n",
    "Yelpdata.raw_review_count = Yelpdata.raw_review_count.apply(lambda x : [0] if len(x) == 0 else x)\n",
    "Yelpdata.raw_review_count = Yelpdata.raw_review_count.apply(lambda x : int(x[0]))"
   ]
  },
  {
   "cell_type": "code",
   "execution_count": 134,
   "metadata": {},
   "outputs": [
    {
     "data": {
      "text/html": [
       "<div>\n",
       "<style>\n",
       "    .dataframe thead tr:only-child th {\n",
       "        text-align: right;\n",
       "    }\n",
       "\n",
       "    .dataframe thead th {\n",
       "        text-align: left;\n",
       "    }\n",
       "\n",
       "    .dataframe tbody tr th {\n",
       "        vertical-align: top;\n",
       "    }\n",
       "</style>\n",
       "<table border=\"1\" class=\"dataframe\">\n",
       "  <thead>\n",
       "    <tr style=\"text-align: right;\">\n",
       "      <th></th>\n",
       "      <th>category_list</th>\n",
       "      <th>price</th>\n",
       "      <th>raw_name</th>\n",
       "      <th>raw_review_count</th>\n",
       "      <th>stars</th>\n",
       "    </tr>\n",
       "  </thead>\n",
       "  <tbody>\n",
       "    <tr>\n",
       "      <th>0</th>\n",
       "      <td>[Ramen, Chinese, Noodles]</td>\n",
       "      <td>2</td>\n",
       "      <td>Johnny Noodle King</td>\n",
       "      <td>435</td>\n",
       "      <td>4.0</td>\n",
       "    </tr>\n",
       "    <tr>\n",
       "      <th>1</th>\n",
       "      <td>[Chinese]</td>\n",
       "      <td>1</td>\n",
       "      <td>Lucky Dragon</td>\n",
       "      <td>32</td>\n",
       "      <td>3.0</td>\n",
       "    </tr>\n",
       "    <tr>\n",
       "      <th>2</th>\n",
       "      <td>[Dim Sum, Sushi Bars]</td>\n",
       "      <td>2</td>\n",
       "      <td>Midtown Shangri-La</td>\n",
       "      <td>196</td>\n",
       "      <td>3.5</td>\n",
       "    </tr>\n",
       "    <tr>\n",
       "      <th>3</th>\n",
       "      <td>[Noodles, Chinese]</td>\n",
       "      <td>1</td>\n",
       "      <td>Noodle Topia</td>\n",
       "      <td>10</td>\n",
       "      <td>3.5</td>\n",
       "    </tr>\n",
       "    <tr>\n",
       "      <th>4</th>\n",
       "      <td>[Chinese, Cocktail Bars]</td>\n",
       "      <td>2</td>\n",
       "      <td>The Peterboro</td>\n",
       "      <td>152</td>\n",
       "      <td>3.5</td>\n",
       "    </tr>\n",
       "  </tbody>\n",
       "</table>\n",
       "</div>"
      ],
      "text/plain": [
       "               category_list  price            raw_name  raw_review_count  \\\n",
       "0  [Ramen, Chinese, Noodles]      2  Johnny Noodle King               435   \n",
       "1                  [Chinese]      1        Lucky Dragon                32   \n",
       "2      [Dim Sum, Sushi Bars]      2  Midtown Shangri-La               196   \n",
       "3         [Noodles, Chinese]      1        Noodle Topia                10   \n",
       "4   [Chinese, Cocktail Bars]      2       The Peterboro               152   \n",
       "\n",
       "   stars  \n",
       "0    4.0  \n",
       "1    3.0  \n",
       "2    3.5  \n",
       "3    3.5  \n",
       "4    3.5  "
      ]
     },
     "execution_count": 134,
     "metadata": {},
     "output_type": "execute_result"
    }
   ],
   "source": [
    "Yelpdata.head()"
   ]
  },
  {
   "cell_type": "code",
   "execution_count": 135,
   "metadata": {},
   "outputs": [
    {
     "data": {
      "image/png": "[encoded data removed]",
      "text/plain": [
       "<matplotlib.figure.Figure at 0x7f4fc42cc9e8>"
      ]
     },
     "metadata": {},
     "output_type": "display_data"
    }
   ],
   "source": [
    "plt.hist(Yelpdata.price, bins = 4)\n",
    "plt.xticks(range(1,4))\n",
    "plt.show()"
   ]
  },
  {
   "cell_type": "code",
   "execution_count": 136,
   "metadata": {},
   "outputs": [
    {
     "data": {
      "image/png": "[encoded data removed]",
      "text/plain": [
       "<matplotlib.figure.Figure at 0x7f4fc42f86d8>"
      ]
     },
     "metadata": {},
     "output_type": "display_data"
    }
   ],
   "source": [
    "plt.hist(Yelpdata.stars, bins = 5)\n",
    "plt.show()"
   ]
  },
  {
   "cell_type": "code",
   "execution_count": 137,
   "metadata": {},
   "outputs": [
    {
     "data": {
      "image/png": "[encoded data removed]",
      "text/plain": [
       "<matplotlib.figure.Figure at 0x7f4fc42f20f0>"
      ]
     },
     "metadata": {},
     "output_type": "display_data"
    }
   ],
   "source": [
    "plt.hist(Yelpdata.raw_review_count)\n",
    "plt.show()"
   ]
  },
  {
   "cell_type": "code",
   "execution_count": 138,
   "metadata": {},
   "outputs": [
    {
     "data": {
      "text/html": [
       "<div>\n",
       "<style>\n",
       "    .dataframe thead tr:only-child th {\n",
       "        text-align: right;\n",
       "    }\n",
       "\n",
       "    .dataframe thead th {\n",
       "        text-align: left;\n",
       "    }\n",
       "\n",
       "    .dataframe tbody tr th {\n",
       "        vertical-align: top;\n",
       "    }\n",
       "</style>\n",
       "<table border=\"1\" class=\"dataframe\">\n",
       "  <thead>\n",
       "    <tr style=\"text-align: right;\">\n",
       "      <th></th>\n",
       "      <th>category_list</th>\n",
       "      <th>price</th>\n",
       "      <th>raw_name</th>\n",
       "      <th>raw_review_count</th>\n",
       "      <th>stars</th>\n",
       "    </tr>\n",
       "  </thead>\n",
       "  <tbody>\n",
       "    <tr>\n",
       "      <th>0</th>\n",
       "      <td>[Ramen, Chinese, Noodles]</td>\n",
       "      <td>2</td>\n",
       "      <td>Johnny Noodle King</td>\n",
       "      <td>435</td>\n",
       "      <td>4.0</td>\n",
       "    </tr>\n",
       "  </tbody>\n",
       "</table>\n",
       "</div>"
      ],
      "text/plain": [
       "               category_list  price            raw_name  raw_review_count  \\\n",
       "0  [Ramen, Chinese, Noodles]      2  Johnny Noodle King               435   \n",
       "\n",
       "   stars  \n",
       "0    4.0  "
      ]
     },
     "execution_count": 138,
     "metadata": {},
     "output_type": "execute_result"
    }
   ],
   "source": [
    "Yelpdata[Yelpdata.raw_review_count == Yelpdata.raw_review_count.max()]"
   ]
  },
  {
   "cell_type": "code",
   "execution_count": null,
   "metadata": {
    "collapsed": true
   },
   "outputs": [],
   "source": [
    "Yelpdata[Yelpdata.raw_review_count == Yelpdata.raw_review_count.max()]"
   ]
  }
 ],
 "metadata": {
  "hide_input": false,
  "kernelspec": {
   "display_name": "Python 3",
   "language": "python",
   "name": "python3"
  },
  "language_info": {
   "codemirror_mode": {
    "name": "ipython",
    "version": 3
   },
   "file_extension": ".py",
   "mimetype": "text/x-python",
   "name": "python",
   "nbconvert_exporter": "python",
   "pygments_lexer": "ipython3",
   "version": "3.6.1"
  }
 },
 "nbformat": 4,
 "nbformat_minor": 2
}
