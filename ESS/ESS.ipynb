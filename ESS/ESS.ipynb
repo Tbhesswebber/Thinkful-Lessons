{
 "cells": [
  {
   "cell_type": "code",
   "execution_count": 213,
   "metadata": {
    "collapsed": true
   },
   "outputs": [],
   "source": [
    "import pandas as pd\n",
    "from scipy import stats"
   ]
  },
  {
   "cell_type": "code",
   "execution_count": 214,
   "metadata": {
    "collapsed": false
   },
   "outputs": [],
   "source": [
    "df = pd.read_csv(\"C:\\\\Users\\\\Peter\\\\Desktop\\\\Thinkful\\\\ESS\\\\ESSdata_Thinkful.csv\", low_memory=False)"
   ]
  },
  {
   "cell_type": "code",
   "execution_count": 215,
   "metadata": {
    "collapsed": false
   },
   "outputs": [
    {
     "data": {
      "text/html": [
       "<div>\n",
       "<table border=\"1\" class=\"dataframe\">\n",
       "  <thead>\n",
       "    <tr style=\"text-align: right;\">\n",
       "      <th></th>\n",
       "      <th>cntry</th>\n",
       "      <th>idno</th>\n",
       "      <th>year</th>\n",
       "      <th>tvtot</th>\n",
       "      <th>ppltrst</th>\n",
       "      <th>pplfair</th>\n",
       "      <th>pplhlp</th>\n",
       "      <th>happy</th>\n",
       "      <th>sclmeet</th>\n",
       "      <th>sclact</th>\n",
       "      <th>gndr</th>\n",
       "      <th>agea</th>\n",
       "      <th>partner</th>\n",
       "    </tr>\n",
       "  </thead>\n",
       "  <tbody>\n",
       "    <tr>\n",
       "      <th>0</th>\n",
       "      <td>CH</td>\n",
       "      <td>5.0</td>\n",
       "      <td>6</td>\n",
       "      <td>3.0</td>\n",
       "      <td>3.0</td>\n",
       "      <td>10.0</td>\n",
       "      <td>5.0</td>\n",
       "      <td>8.0</td>\n",
       "      <td>5.0</td>\n",
       "      <td>4.0</td>\n",
       "      <td>2.0</td>\n",
       "      <td>60.0</td>\n",
       "      <td>1.0</td>\n",
       "    </tr>\n",
       "    <tr>\n",
       "      <th>1</th>\n",
       "      <td>CH</td>\n",
       "      <td>25.0</td>\n",
       "      <td>6</td>\n",
       "      <td>6.0</td>\n",
       "      <td>5.0</td>\n",
       "      <td>7.0</td>\n",
       "      <td>5.0</td>\n",
       "      <td>9.0</td>\n",
       "      <td>3.0</td>\n",
       "      <td>2.0</td>\n",
       "      <td>2.0</td>\n",
       "      <td>59.0</td>\n",
       "      <td>1.0</td>\n",
       "    </tr>\n",
       "    <tr>\n",
       "      <th>2</th>\n",
       "      <td>CH</td>\n",
       "      <td>26.0</td>\n",
       "      <td>6</td>\n",
       "      <td>1.0</td>\n",
       "      <td>8.0</td>\n",
       "      <td>8.0</td>\n",
       "      <td>8.0</td>\n",
       "      <td>7.0</td>\n",
       "      <td>6.0</td>\n",
       "      <td>3.0</td>\n",
       "      <td>1.0</td>\n",
       "      <td>24.0</td>\n",
       "      <td>2.0</td>\n",
       "    </tr>\n",
       "    <tr>\n",
       "      <th>3</th>\n",
       "      <td>CH</td>\n",
       "      <td>28.0</td>\n",
       "      <td>6</td>\n",
       "      <td>4.0</td>\n",
       "      <td>6.0</td>\n",
       "      <td>6.0</td>\n",
       "      <td>7.0</td>\n",
       "      <td>10.0</td>\n",
       "      <td>6.0</td>\n",
       "      <td>2.0</td>\n",
       "      <td>2.0</td>\n",
       "      <td>64.0</td>\n",
       "      <td>1.0</td>\n",
       "    </tr>\n",
       "    <tr>\n",
       "      <th>4</th>\n",
       "      <td>CH</td>\n",
       "      <td>29.0</td>\n",
       "      <td>6</td>\n",
       "      <td>5.0</td>\n",
       "      <td>6.0</td>\n",
       "      <td>7.0</td>\n",
       "      <td>5.0</td>\n",
       "      <td>8.0</td>\n",
       "      <td>7.0</td>\n",
       "      <td>2.0</td>\n",
       "      <td>2.0</td>\n",
       "      <td>55.0</td>\n",
       "      <td>1.0</td>\n",
       "    </tr>\n",
       "  </tbody>\n",
       "</table>\n",
       "</div>"
      ],
      "text/plain": [
       "  cntry  idno  year  tvtot  ppltrst  pplfair  pplhlp  happy  sclmeet  sclact  \\\n",
       "0    CH   5.0     6    3.0      3.0     10.0     5.0    8.0      5.0     4.0   \n",
       "1    CH  25.0     6    6.0      5.0      7.0     5.0    9.0      3.0     2.0   \n",
       "2    CH  26.0     6    1.0      8.0      8.0     8.0    7.0      6.0     3.0   \n",
       "3    CH  28.0     6    4.0      6.0      6.0     7.0   10.0      6.0     2.0   \n",
       "4    CH  29.0     6    5.0      6.0      7.0     5.0    8.0      7.0     2.0   \n",
       "\n",
       "   gndr  agea  partner  \n",
       "0   2.0  60.0      1.0  \n",
       "1   2.0  59.0      1.0  \n",
       "2   1.0  24.0      2.0  \n",
       "3   2.0  64.0      1.0  \n",
       "4   2.0  55.0      1.0  "
      ]
     },
     "execution_count": 215,
     "metadata": {},
     "output_type": "execute_result"
    }
   ],
   "source": [
    "df.head()"
   ]
  },
  {
   "cell_type": "code",
   "execution_count": 216,
   "metadata": {
    "collapsed": false
   },
   "outputs": [],
   "source": [
    "countrydict={\n",
    "        \"CH\": 'Switzerland',\n",
    "        \"CZ\": 'Czech Republic',\n",
    "        \"DE\": 'Denmark',\n",
    "        \"ES\": 'Spain',\n",
    "        \"NO\": 'Norway',\n",
    "        \"SE\": 'Sweden'\n",
    "    }"
   ]
  },
  {
   "cell_type": "code",
   "execution_count": 217,
   "metadata": {
    "collapsed": false,
    "scrolled": false
   },
   "outputs": [
    {
     "name": "stdout",
     "output_type": "stream",
     "text": [
      "People in Switzerland trust people more than they did before. The average response went up by 0.0737386804657\n",
      "People in Czech Republic trust people more than they did before. The average response went up by 0.0621383330177\n",
      "People in Denmark trust people more than they did before. The average response went up by 0.142857142857\n",
      "People in Spain trust people less than they did before. The average response went down by -0.219463927463\n",
      "People in Norway trust people less than they did before. The average response went down by -0.0506849315068\n",
      "People in Sweden trust people more than they did before. The average response went up by 0.199210354854\n"
     ]
    }
   ],
   "source": [
    "for e in countries:\n",
    "    crrnt_cntry=df[df['cntry']==e]\n",
    "    trst_yr_one=crrnt_cntry[crrnt_cntry['year']==6].ppltrst.mean()\n",
    "    trst_yr_two=crrnt_cntry[crrnt_cntry['year']==7].ppltrst.mean()\n",
    "    chng = trst_yr_two-trst_yr_one\n",
    "    if chng < 0:\n",
    "        print('People in', countrydict[e], 'trust people less than they did before. The average response went down by', chng)\n",
    "    else:\n",
    "        print('People in', countrydict[e], 'trust people more than they did before. The average response went up by', chng)"
   ]
  },
  {
   "cell_type": "code",
   "execution_count": 218,
   "metadata": {
    "collapsed": false
   },
   "outputs": [
    {
     "name": "stdout",
     "output_type": "stream",
     "text": [
      "People in Switzerland are happier than they were before. The average response went up by 0.0281178071605\n",
      "People in Czech Republic are happier than they were before. The average response went up by 0.143212596631\n",
      "People in Denmark are happier than they were before. The average response went up by 0.428571428571\n",
      "People in Spain are less happy than they were before. The average response went down by -0.128712871287\n",
      "People in Norway are less happy than they were before. The average response went down by -0.33653471625\n",
      "People in Sweden are happier than they were before. The average response went up by 0.0395743358897\n"
     ]
    }
   ],
   "source": [
    "for e in countries:\n",
    "    crrnt_cntry=df[df['cntry']==e]\n",
    "    trst_yr_one=crrnt_cntry[crrnt_cntry['year']==6].happy.mean()\n",
    "    trst_yr_two=crrnt_cntry[crrnt_cntry['year']==7].happy.mean()\n",
    "    chng = trst_yr_two-trst_yr_one\n",
    "    if chng < 0:\n",
    "        print('People in', countrydict[e], 'are less happy than they were before. The average response went down by', chng)\n",
    "    else:\n",
    "        print('People in', countrydict[e], 'are happier than they were before. The average response went up by', chng)"
   ]
  },
  {
   "cell_type": "code",
   "execution_count": 219,
   "metadata": {
    "collapsed": false
   },
   "outputs": [
    {
     "name": "stdout",
     "output_type": "stream",
     "text": [
      "Women overall reported spending more time watching tv with a survey score of  3.8925891182 vs 3.82560296846 for men\n"
     ]
    }
   ],
   "source": [
    "men=df[df['gndr']==1]\n",
    "women=df[df['gndr']==2]\n",
    "if women['tvtot'].mean() > men['tvtot'].mean():\n",
    "    print('Women overall reported spending more time watching tv with a survey score of ', women['tvtot'].mean(), 'vs',men['tvtot'].mean(), 'for men')\n",
    "else:\n",
    "    print('Men overall reported spending more time watching tv with a survey score of ', men['tvtot'].mean(), 'vs',women['tvtot'].mean(), 'for men')"
   ]
  },
  {
   "cell_type": "code",
   "execution_count": 220,
   "metadata": {
    "collapsed": false
   },
   "outputs": [
    {
     "name": "stdout",
     "output_type": "stream",
     "text": [
      "People with partners felt people were fair, with a score of 6.06389047347 vs 5.9112804878 for people who were not partnered\n"
     ]
    }
   ],
   "source": [
    "partnered=df[df['partner']==1]\n",
    "nopartner=df[df['partner']==2]\n",
    "if partnered['pplfair'].mean() > nopartner['pplfair'].mean():\n",
    "    print('People with partners felt people were fair, with a score of', partnered['pplfair'].mean(),'vs', nopartner['pplfair'].mean(), 'for people who were not partnered')\n",
    "else:\n",
    "    print('People with no partners felt people were fair, with a score of', nopartner['pplfair'].mean(),'vs', partnered['pplfair'].mean(), 'for people who had partners')"
   ]
  },
  {
   "cell_type": "code",
   "execution_count": 221,
   "metadata": {
    "collapsed": false
   },
   "outputs": [
    {
     "name": "stdout",
     "output_type": "stream",
     "text": [
      "People in Switzerland when asked how often they took part in social activities said 5.16062176166\n",
      "People in Czech Republic when asked how often they took part in social activities said 4.44580152672\n",
      "People in Denmark when asked how often they took part in social activities said 4.42857142857\n",
      "People in Spain when asked how often they took part in social activities said 5.26011560694\n",
      "People in Norway when asked how often they took part in social activities said 5.3023255814\n",
      "People in Sweden when asked how often they took part in social activities said 5.42621145374\n"
     ]
    }
   ],
   "source": [
    "in2014= df[df['year']==7]\n",
    "\n",
    "for e in countries:\n",
    "    crrnt_cntry=in2014[in2014['cntry']==e]\n",
    "    social_score=crrnt_cntry['sclmeet'].mean()\n",
    "    print('People in',countrydict[e], 'when asked how often they took part in social activities said', social_score )"
   ]
  },
  {
   "cell_type": "markdown",
   "metadata": {},
   "source": [
    "People in the Czech Republic and Denmark said they took part in social activities less than other countries compared to others in their age group."
   ]
  },
  {
   "cell_type": "code",
   "execution_count": 222,
   "metadata": {
    "collapsed": false
   },
   "outputs": [
    {
     "name": "stdout",
     "output_type": "stream",
     "text": [
      "People in Switzerland when asked how often they met socially said 2.78169934641\n",
      "People in Czech Republic when asked how often they met socially said 2.70307692308\n",
      "People in Denmark when asked how often they met socially said 2.71428571429\n",
      "People in Spain when asked how often they met socially said 2.61687763713\n",
      "People in Norway when asked how often they met socially said 2.85909712722\n",
      "People in Sweden when asked how often they met socially said 2.87942477876\n"
     ]
    }
   ],
   "source": [
    "in2014= df[df['year']==7]\n",
    "\n",
    "for e in countries:\n",
    "    crrnt_cntry=in2014[in2014['cntry']==e]\n",
    "    social_score=crrnt_cntry['sclact'].mean()\n",
    "    print('People in',countrydict[e], 'when asked how often they met socially said', social_score )"
   ]
  },
  {
   "cell_type": "markdown",
   "metadata": {},
   "source": [
    "All residents of the countries responded with relatively similar answers to how often they met sociallially compared to others in their age group."
   ]
  }
 ],
 "metadata": {
  "kernelspec": {
   "display_name": "Python 3",
   "language": "python",
   "name": "python3"
  },
  "language_info": {
   "codemirror_mode": {
    "name": "ipython",
    "version": 3
   },
   "file_extension": ".py",
   "mimetype": "text/x-python",
   "name": "python",
   "nbconvert_exporter": "python",
   "pygments_lexer": "ipython3",
   "version": "3.6.0"
  }
 },
 "nbformat": 4,
 "nbformat_minor": 2
}
