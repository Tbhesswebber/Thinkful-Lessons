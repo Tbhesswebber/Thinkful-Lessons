{
 "cells": [
  {
   "cell_type": "code",
   "execution_count": 1,
   "metadata": {
    "collapsed": true
   },
   "outputs": [],
   "source": [
    "import pandas as pd\n",
    "from sklearn import ensemble\n",
    "from sklearn.model_selection import cross_val_score\n",
    "from sklearn.metrics import confusion_matrix\n",
    "from sklearn.model_selection import train_test_split\n",
    "from sklearn.preprocessing import normalize, scale\n",
    "import matplotlib.pyplot as plt\n",
    "import numpy as np"
   ]
  },
  {
   "cell_type": "code",
   "execution_count": 2,
   "metadata": {
    "collapsed": false
   },
   "outputs": [],
   "source": [
    "path = 'C:\\\\Users\\\\Peter\\\\Desktop\\\\Thinkful\\\\Thinkful-Lessons\\\\Thinkful 3.6\\\\airline2008.csv'\n",
    "df = pd.read_csv(path)"
   ]
  },
  {
   "cell_type": "code",
   "execution_count": 3,
   "metadata": {
    "collapsed": false
   },
   "outputs": [
    {
     "name": "stdout",
     "output_type": "stream",
     "text": [
      "Year                  0.000000\n",
      "Month                 0.000000\n",
      "DayofMonth            0.000000\n",
      "DayOfWeek             0.000000\n",
      "DepTime               1.943670\n",
      "CRSDepTime            0.000000\n",
      "ArrTime               2.163408\n",
      "CRSArrTime            0.000000\n",
      "UniqueCarrier         0.000000\n",
      "FlightNum             0.000000\n",
      "TailNum               1.189276\n",
      "ActualElapsedTime     2.206919\n",
      "CRSElapsedTime        0.012040\n",
      "AirTime               2.206919\n",
      "ArrDelay              2.206919\n",
      "DepDelay              1.943670\n",
      "Origin                0.000000\n",
      "Dest                  0.000000\n",
      "Distance              0.000000\n",
      "TaxiIn                2.163408\n",
      "TaxiOut               1.955254\n",
      "Cancelled             0.000000\n",
      "CancellationCode     98.039382\n",
      "Diverted              0.000000\n",
      "CarrierDelay         78.248300\n",
      "WeatherDelay         78.248300\n",
      "NASDelay             78.248300\n",
      "SecurityDelay        78.248300\n",
      "LateAircraftDelay    78.248300\n",
      "dtype: float64\n"
     ]
    }
   ],
   "source": [
    "print(100 * df.isnull().sum()/len(df))#identify columns in data that are null"
   ]
  },
  {
   "cell_type": "code",
   "execution_count": 4,
   "metadata": {
    "collapsed": false
   },
   "outputs": [],
   "source": [
    "df['DepTime'].fillna(df.DepTime.mean(), inplace = True)\n",
    "if 'TailNum' in df.columns: del df['TailNum']\n",
    "if 'CarrierDelay' in df.columns:df['CarrierDelay'].fillna(0, inplace = True)\n",
    "if 'CarrierDelay' in df.columns:df['WeatherDelay'].fillna(0, inplace = True)\n",
    "if 'CarrierDelay' in df.columns:df['NASDelay'].fillna(0, inplace = True)\n",
    "if 'CarrierDelay' in df.columns:df['SecurityDelay'].fillna(0, inplace = True)\n",
    "if 'CarrierDelay' in df.columns:df['LateAircraftDelay'].fillna(0, inplace = True)\n",
    "if 'CarrierDelay' in df.columns:\n",
    "    df['TotalDelay'] = df['CarrierDelay'] + df['WeatherDelay'] + df['NASDelay'] + df['SecurityDelay'] + df['LateAircraftDelay']\n",
    "if 'CarrierDelay' in df.columns: del df['CarrierDelay']\n",
    "if 'WeatherDelay' in df.columns: del df['WeatherDelay']\n",
    "if 'NASDelay' in df.columns: del df['NASDelay']\n",
    "if 'SecurityDelay' in df.columns: del df['SecurityDelay']    \n",
    "if 'LateAircraftDelay' in df.columns: del df['LateAircraftDelay']   \n",
    "if 'UniqueCarrier' in df.columns: del df['UniqueCarrier']\n",
    "if 'CancellationCode' in df.columns: del df['CancellationCode']\n",
    "if 'FlightNum' in df.columns: del df['FlightNum']\n",
    "if 'Origin' in df.columns: del df['Origin']\n",
    "if 'Dest' in df.columns: del df['Dest']\n",
    "if 'Year' in df.columns: del df['Year']"
   ]
  },
  {
   "cell_type": "code",
   "execution_count": 5,
   "metadata": {
    "collapsed": false
   },
   "outputs": [],
   "source": [
    "df = df[df['TotalDelay']>30]"
   ]
  },
  {
   "cell_type": "code",
   "execution_count": 6,
   "metadata": {
    "collapsed": false
   },
   "outputs": [
    {
     "data": {
      "text/plain": [
       "Index(['Month', 'DayofMonth', 'DayOfWeek', 'DepTime', 'CRSDepTime', 'ArrTime',\n",
       "       'CRSArrTime', 'ActualElapsedTime', 'CRSElapsedTime', 'AirTime',\n",
       "       'ArrDelay', 'DepDelay', 'Distance', 'TaxiIn', 'TaxiOut', 'Cancelled',\n",
       "       'Diverted', 'TotalDelay'],\n",
       "      dtype='object')"
      ]
     },
     "execution_count": 6,
     "metadata": {},
     "output_type": "execute_result"
    }
   ],
   "source": [
    "df.columns"
   ]
  },
  {
   "cell_type": "code",
   "execution_count": 7,
   "metadata": {
    "collapsed": false
   },
   "outputs": [],
   "source": [
    "rfc = ensemble.RandomForestRegressor()\n",
    "Y = df['TotalDelay']\n"
   ]
  },
  {
   "cell_type": "markdown",
   "metadata": {},
   "source": [
    "X = df[['Month', 'DayofMonth', 'DayOfWeek', 'DepTime', 'CRSDepTime', \n",
    "       'CRSArrTime', 'ActualElapsedTime', 'CRSElapsedTime', 'AirTime',\n",
    "        'Distance', 'TaxiIn', 'TaxiOut', 'Cancelled',\n",
    "       'Diverted']]"
   ]
  },
  {
   "cell_type": "code",
   "execution_count": 107,
   "metadata": {
    "collapsed": true
   },
   "outputs": [],
   "source": [
    "X = df[['Month', 'DayofMonth', 'DayOfWeek', 'DepTime', 'CRSDepTime', 'ArrTime',\n",
    "       'CRSArrTime', 'ActualElapsedTime', 'CRSElapsedTime', 'AirTime',\n",
    "     'DepDelay', 'Distance', 'TaxiIn', 'TaxiOut', 'Cancelled',\n",
    "       'Diverted']]"
   ]
  },
  {
   "cell_type": "code",
   "execution_count": 8,
   "metadata": {
    "collapsed": false
   },
   "outputs": [
    {
     "ename": "NameError",
     "evalue": "name 'X' is not defined",
     "output_type": "error",
     "traceback": [
      "\u001b[0;31m---------------------------------------------------------------------------\u001b[0m",
      "\u001b[0;31mNameError\u001b[0m                                 Traceback (most recent call last)",
      "\u001b[0;32m<ipython-input-8-d739f6fad162>\u001b[0m in \u001b[0;36m<module>\u001b[0;34m()\u001b[0m\n\u001b[0;32m----> 1\u001b[0;31m \u001b[0mcross_val_score\u001b[0m\u001b[1;33m(\u001b[0m\u001b[0mrfc\u001b[0m\u001b[1;33m,\u001b[0m \u001b[0mX\u001b[0m\u001b[1;33m,\u001b[0m \u001b[0mY\u001b[0m\u001b[1;33m,\u001b[0m \u001b[0mcv\u001b[0m \u001b[1;33m=\u001b[0m \u001b[1;36m3\u001b[0m\u001b[1;33m)\u001b[0m\u001b[1;33m\u001b[0m\u001b[0m\n\u001b[0m",
      "\u001b[0;31mNameError\u001b[0m: name 'X' is not defined"
     ]
    }
   ],
   "source": [
    "cross_val_score(rfc, X, Y, cv = 3)"
   ]
  },
  {
   "cell_type": "code",
   "execution_count": 108,
   "metadata": {
    "collapsed": true
   },
   "outputs": [],
   "source": [
    "X_train, X_test, Y_train, Y_test = train_test_split(X, Y, test_size = 0.6)"
   ]
  },
  {
   "cell_type": "code",
   "execution_count": 109,
   "metadata": {
    "collapsed": false
   },
   "outputs": [],
   "source": [
    "rfc.fit(X_train, Y_train)\n",
    "Y_ = rfc.predict(X_test)"
   ]
  },
  {
   "cell_type": "code",
   "execution_count": 110,
   "metadata": {
    "collapsed": false
   },
   "outputs": [
    {
     "data": {
      "image/png": "[encoded data removed]",
      "text/plain": [
       "<matplotlib.figure.Figure at 0x17802e62f98>"
      ]
     },
     "metadata": {},
     "output_type": "display_data"
    }
   ],
   "source": [
    "feature_importance = rfc.feature_importances_\n",
    "\n",
    "# Make importances relative to max importance.\n",
    "feature_importance = 100.0 * (feature_importance / feature_importance.max())\n",
    "sorted_idx = np.argsort(feature_importance)\n",
    "pos = np.arange(sorted_idx.shape[0]) + .5\n",
    "plt.subplot(1, 2, 2)\n",
    "plt.barh(pos, feature_importance[sorted_idx], align='center')\n",
    "plt.yticks(pos, X.columns[sorted_idx])\n",
    "plt.xlabel('Relative Importance')\n",
    "plt.title('Variable Importance')\n",
    "plt.show()"
   ]
  },
  {
   "cell_type": "code",
   "execution_count": 111,
   "metadata": {
    "collapsed": false
   },
   "outputs": [
    {
     "data": {
      "image/png": "[encoded data removed]",
      "text/plain": [
       "<matplotlib.figure.Figure at 0x178036fda58>"
      ]
     },
     "metadata": {},
     "output_type": "display_data"
    }
   ],
   "source": [
    "plt.scatter(Y_test, Y_)\n",
    "plt.show()"
   ]
  },
  {
   "cell_type": "code",
   "execution_count": null,
   "metadata": {
    "collapsed": true
   },
   "outputs": [],
   "source": []
  }
 ],
 "metadata": {
  "kernelspec": {
   "display_name": "Python 3",
   "language": "python",
   "name": "python3"
  },
  "language_info": {
   "codemirror_mode": {
    "name": "ipython",
    "version": 3
   },
   "file_extension": ".py",
   "mimetype": "text/x-python",
   "name": "python",
   "nbconvert_exporter": "python",
   "pygments_lexer": "ipython3",
   "version": "3.6.0"
  }
 },
 "nbformat": 4,
 "nbformat_minor": 2
}
